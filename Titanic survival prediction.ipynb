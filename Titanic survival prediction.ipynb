{
 "cells": [
  {
   "cell_type": "markdown",
   "metadata": {
    "papermill": {
     "duration": 0.02642,
     "end_time": "2020-08-19T12:59:40.332975",
     "exception": false,
     "start_time": "2020-08-19T12:59:40.306555",
     "status": "completed"
    },
    "tags": []
   },
   "source": [
    "# Welcome to Simple guide Kernel\n",
    "\n",
    "I am quite a newcomer to the Kaggle scene as well and the first proper kaggle script.The Titanic dataset is a prime candidate for introducing the concept of Machine learning as many newcomers like me to Kaggle start out here. \n",
    "The objective of this notebook is to follow a step-by-step workflow, explaining each step.\n",
    "\n",
    "I hope that anyone, regardless of their python skills can find something useful and helpful.\n",
    "please feel free to leave me any comments with regards to how I can improve.\n",
    "\n",
    "<h2 style=\"color:blue\"><center> Don't forget to upvote if you like it! It's free!! "
   ]
  },
  {
   "cell_type": "markdown",
   "metadata": {
    "papermill": {
     "duration": 0.024048,
     "end_time": "2020-08-19T12:59:40.381817",
     "exception": false,
     "start_time": "2020-08-19T12:59:40.357769",
     "status": "completed"
    },
    "tags": []
   },
   "source": [
    "## Table of content:\n",
    "\n",
    "* About RMS Titanic\n",
    "* All about Data\n",
    "* Import Necessary Libraries\n",
    "* Load the data\n",
    "* Data analysis\n",
    "* Handle Missing Values\n",
    "* Data Exploration/ Visualizing\n",
    "* Correlation & Matrix\n",
    "* Feature Engineering\n",
    "* Predictive Modeling\n",
    "> 1. Logistic Regression\n",
    "> 2. KNN Classifier\n",
    "> 3. Gaussian Naive Bayes\n",
    "> 4. Support Vector Machine(SVM)\n",
    "> 5. Random Forest\n",
    "> 6. Decision Tree\n",
    "* Confusion Matrix"
   ]
  },
  {
   "cell_type": "markdown",
   "metadata": {
    "papermill": {
     "duration": 0.02447,
     "end_time": "2020-08-19T12:59:40.430617",
     "exception": false,
     "start_time": "2020-08-19T12:59:40.406147",
     "status": "completed"
    },
    "tags": []
   },
   "source": [
    "### About RMS Titanic\n",
    "\n",
    "The reason the titanic is often referred to as 'RMS Titanic' is because of Royal Mail Ship.\n",
    "The RMS Titanic, a luxury steamship, sank in the early hours of April 15, 1912, off the coast of Newfoundland in the North Atlantic after sideswiping an iceberg during its maiden voyage. Of the 2,240 passengers and crew on board, more than 1,500 lost their lives in the disaster. \n",
    "\n",
    "We will go through the whole process of creating a machine learning model on the famous Titanic dataset, which is used by many people all over the world. It provides information on the fate of passengers on the Titanic, summarized according to economic status (class), sex, age and survival. In this challenge, we will predict whether a passenger on the titanic would have been survived or not."
   ]
  },
  {
   "cell_type": "markdown",
   "metadata": {
    "papermill": {
     "duration": 0.024139,
     "end_time": "2020-08-19T12:59:40.479177",
     "exception": false,
     "start_time": "2020-08-19T12:59:40.455038",
     "status": "completed"
    },
    "tags": []
   },
   "source": [
    "<img src=\"https://i.ibb.co/WFKW312/titanic-conspiracy-rms-olympic-gettyimages-1055101284.jpg\" alt=\"titanic\" style=\"width:700px;height:400px;\">"
   ]
  },
  {
   "cell_type": "markdown",
   "metadata": {
    "papermill": {
     "duration": 0.024153,
     "end_time": "2020-08-19T12:59:40.527776",
     "exception": false,
     "start_time": "2020-08-19T12:59:40.503623",
     "status": "completed"
    },
    "tags": []
   },
   "source": [
    "## All about Data \n",
    "\n",
    "\n",
    "<span style='font-family:Georgia'>\n",
    "    <table>\n",
    "        <tr>\n",
    "            <th>Variable</th>\n",
    "            <th>Key</th>\n",
    "            <th>Definition</th>\n",
    "        </tr>\n",
    "        <tr>\n",
    "            <td>survival</td>\n",
    "            <td>0 = No, 1 = Yes</td>\n",
    "            <td>Whether person survived or not</td>\n",
    "        </tr>\n",
    "        <tr>\n",
    "            <td>pclass</td>\n",
    "            <td>1 = 1st, 2 = 2nd, 3 = 3rd</td>\n",
    "            <td>1st = Upper,2nd = Middle,3rd = Lower</td>\n",
    "        </tr>\n",
    "        <tr>\n",
    "            <td>sex</td>\n",
    "            <td>male,female</td>\n",
    "            <td>sex of the passenger</td>\n",
    "        </tr>\n",
    "        <tr>\n",
    "            <td>Age</td>\n",
    "            <td>Continuous varivale</td>\n",
    "            <td>Age in years</td>\n",
    "        </tr>\n",
    "        <tr>\n",
    "            <td>sibsp</td>\n",
    "            <td>numeric values</td>\n",
    "            <td># siblings / spouses aboard the Titanic<br>Sibling = brother, sister, stepbrother, stepsister<br>Spouse = husband, wife</td>\n",
    "        </tr>\n",
    "        <tr>\n",
    "            <td>parch</td>\n",
    "            <td>numeric values</td>\n",
    "            <td># parents / children aboard the Titanic<br> Parent = mother, father <br> Child = daughter, son, stepdaughter, stepson <br>Some children travelled only with a nanny, therefore parch=0 for them</td>\n",
    "        </tr>\n",
    "        <tr>\n",
    "            <td>ticket</td>\n",
    "            <td>numeric values</td>\n",
    "            <td>Ticket number</td>\n",
    "        </tr>\n",
    "        <tr>\n",
    "            <td>fare</td>\n",
    "            <td>numeric values</td>\n",
    "            <td>Passenger fare</td>\n",
    "        </tr>\n",
    "        <tr>\n",
    "            <td>cabin</td>\n",
    "            <td>numeric values</td>\n",
    "            <td>Cabin number</td>\n",
    "        </tr>\n",
    "        <tr>\n",
    "            <td>embarked</td>\n",
    "            <td>C = Cherbourg, Q = Queenstown, S = Southampton</td>\n",
    "            <td>Port of Embarkment</td>\n",
    "        </tr>\n",
    "    </table>  \n",
    "</span>\n",
    "    "
   ]
  },
  {
   "cell_type": "markdown",
   "metadata": {
    "papermill": {
     "duration": 0.025848,
     "end_time": "2020-08-19T12:59:40.578159",
     "exception": false,
     "start_time": "2020-08-19T12:59:40.552311",
     "status": "completed"
    },
    "tags": []
   },
   "source": [
    "## Import  Necessary Libraries"
   ]
  },
  {
   "cell_type": "code",
   "execution_count": 6,
   "metadata": {
    "execution": {
     "iopub.execute_input": "2020-08-19T12:59:40.647402Z",
     "iopub.status.busy": "2020-08-19T12:59:40.646484Z",
     "iopub.status.idle": "2020-08-19T12:59:43.230059Z",
     "shell.execute_reply": "2020-08-19T12:59:43.229291Z"
    },
    "papermill": {
     "duration": 2.626453,
     "end_time": "2020-08-19T12:59:43.230212",
     "exception": false,
     "start_time": "2020-08-19T12:59:40.603759",
     "status": "completed"
    },
    "tags": []
   },
   "outputs": [],
   "source": [
    "# Pandas library in python to read the csv file.\n",
    "import pandas as pd\n",
    "\n",
    "# for numerical computaions use numpy library\n",
    "import numpy as np\n",
    "\n",
    "# data visualization\n",
    "\n",
    "import seaborn as sns\n",
    "%matplotlib inline\n",
    "from matplotlib import pyplot as plt\n",
    "from matplotlib import style\n",
    "\n",
    "\n",
    "# Algorithms\n",
    "from sklearn.model_selection import train_test_split\n",
    "from sklearn import linear_model\n",
    "from sklearn.linear_model import LogisticRegression\n",
    "from sklearn.ensemble import RandomForestClassifier\n",
    "from sklearn.tree import DecisionTreeClassifier\n",
    "from sklearn.neighbors import KNeighborsClassifier\n",
    "from sklearn.svm import SVC, LinearSVC\n",
    "from sklearn.naive_bayes import GaussianNB\n",
    " \n",
    "from sklearn.metrics import accuracy_score  #for accuracy_score\n",
    "from sklearn.model_selection import KFold #for K-fold cross validation\n",
    "from sklearn.model_selection import cross_val_score #score evaluation\n",
    "from sklearn.model_selection import cross_val_predict #prediction\n",
    "from sklearn.metrics import confusion_matrix #for confusion matrix"
   ]
  },
  {
   "cell_type": "markdown",
   "metadata": {
    "papermill": {
     "duration": 0.024837,
     "end_time": "2020-08-19T12:59:43.280599",
     "exception": false,
     "start_time": "2020-08-19T12:59:43.255762",
     "status": "completed"
    },
    "tags": []
   },
   "source": [
    "##  Load the Data"
   ]
  },
  {
   "cell_type": "code",
   "execution_count": 7,
   "metadata": {
    "execution": {
     "iopub.execute_input": "2020-08-19T12:59:43.340574Z",
     "iopub.status.busy": "2020-08-19T12:59:43.339712Z",
     "iopub.status.idle": "2020-08-19T12:59:43.361620Z",
     "shell.execute_reply": "2020-08-19T12:59:43.360808Z"
    },
    "papermill": {
     "duration": 0.055702,
     "end_time": "2020-08-19T12:59:43.361751",
     "exception": false,
     "start_time": "2020-08-19T12:59:43.306049",
     "status": "completed"
    },
    "tags": []
   },
   "outputs": [],
   "source": [
    "# Create a pandas dataframe and assign it to variable.\n",
    "titanic = pd.read_csv('train.csv')\n",
    "titanic_test = pd.read_csv('test.csv')"
   ]
  },
  {
   "cell_type": "markdown",
   "metadata": {
    "papermill": {
     "duration": 0.024378,
     "end_time": "2020-08-19T12:59:43.411240",
     "exception": false,
     "start_time": "2020-08-19T12:59:43.386862",
     "status": "completed"
    },
    "tags": []
   },
   "source": [
    "## Data Analysis"
   ]
  },
  {
   "cell_type": "code",
   "execution_count": 8,
   "metadata": {
    "execution": {
     "iopub.execute_input": "2020-08-19T12:59:43.479369Z",
     "iopub.status.busy": "2020-08-19T12:59:43.478289Z",
     "iopub.status.idle": "2020-08-19T12:59:43.493371Z",
     "shell.execute_reply": "2020-08-19T12:59:43.493968Z"
    },
    "papermill": {
     "duration": 0.05827,
     "end_time": "2020-08-19T12:59:43.494158",
     "exception": false,
     "start_time": "2020-08-19T12:59:43.435888",
     "status": "completed"
    },
    "tags": []
   },
   "outputs": [
    {
     "data": {
      "text/html": [
       "<div>\n",
       "<style scoped>\n",
       "    .dataframe tbody tr th:only-of-type {\n",
       "        vertical-align: middle;\n",
       "    }\n",
       "\n",
       "    .dataframe tbody tr th {\n",
       "        vertical-align: top;\n",
       "    }\n",
       "\n",
       "    .dataframe thead th {\n",
       "        text-align: right;\n",
       "    }\n",
       "</style>\n",
       "<table border=\"1\" class=\"dataframe\">\n",
       "  <thead>\n",
       "    <tr style=\"text-align: right;\">\n",
       "      <th></th>\n",
       "      <th>PassengerId</th>\n",
       "      <th>Survived</th>\n",
       "      <th>Pclass</th>\n",
       "      <th>Name</th>\n",
       "      <th>Sex</th>\n",
       "      <th>Age</th>\n",
       "      <th>SibSp</th>\n",
       "      <th>Parch</th>\n",
       "      <th>Ticket</th>\n",
       "      <th>Fare</th>\n",
       "      <th>Cabin</th>\n",
       "      <th>Embarked</th>\n",
       "    </tr>\n",
       "  </thead>\n",
       "  <tbody>\n",
       "    <tr>\n",
       "      <th>0</th>\n",
       "      <td>1</td>\n",
       "      <td>0</td>\n",
       "      <td>3</td>\n",
       "      <td>Braund, Mr. Owen Harris</td>\n",
       "      <td>male</td>\n",
       "      <td>22.0</td>\n",
       "      <td>1</td>\n",
       "      <td>0</td>\n",
       "      <td>A/5 21171</td>\n",
       "      <td>7.2500</td>\n",
       "      <td>NaN</td>\n",
       "      <td>S</td>\n",
       "    </tr>\n",
       "    <tr>\n",
       "      <th>1</th>\n",
       "      <td>2</td>\n",
       "      <td>1</td>\n",
       "      <td>1</td>\n",
       "      <td>Cumings, Mrs. John Bradley (Florence Briggs Th...</td>\n",
       "      <td>female</td>\n",
       "      <td>38.0</td>\n",
       "      <td>1</td>\n",
       "      <td>0</td>\n",
       "      <td>PC 17599</td>\n",
       "      <td>71.2833</td>\n",
       "      <td>C85</td>\n",
       "      <td>C</td>\n",
       "    </tr>\n",
       "    <tr>\n",
       "      <th>2</th>\n",
       "      <td>3</td>\n",
       "      <td>1</td>\n",
       "      <td>3</td>\n",
       "      <td>Heikkinen, Miss. Laina</td>\n",
       "      <td>female</td>\n",
       "      <td>26.0</td>\n",
       "      <td>0</td>\n",
       "      <td>0</td>\n",
       "      <td>STON/O2. 3101282</td>\n",
       "      <td>7.9250</td>\n",
       "      <td>NaN</td>\n",
       "      <td>S</td>\n",
       "    </tr>\n",
       "    <tr>\n",
       "      <th>3</th>\n",
       "      <td>4</td>\n",
       "      <td>1</td>\n",
       "      <td>1</td>\n",
       "      <td>Futrelle, Mrs. Jacques Heath (Lily May Peel)</td>\n",
       "      <td>female</td>\n",
       "      <td>35.0</td>\n",
       "      <td>1</td>\n",
       "      <td>0</td>\n",
       "      <td>113803</td>\n",
       "      <td>53.1000</td>\n",
       "      <td>C123</td>\n",
       "      <td>S</td>\n",
       "    </tr>\n",
       "    <tr>\n",
       "      <th>4</th>\n",
       "      <td>5</td>\n",
       "      <td>0</td>\n",
       "      <td>3</td>\n",
       "      <td>Allen, Mr. William Henry</td>\n",
       "      <td>male</td>\n",
       "      <td>35.0</td>\n",
       "      <td>0</td>\n",
       "      <td>0</td>\n",
       "      <td>373450</td>\n",
       "      <td>8.0500</td>\n",
       "      <td>NaN</td>\n",
       "      <td>S</td>\n",
       "    </tr>\n",
       "  </tbody>\n",
       "</table>\n",
       "</div>"
      ],
      "text/plain": [
       "   PassengerId  Survived  Pclass  \\\n",
       "0            1         0       3   \n",
       "1            2         1       1   \n",
       "2            3         1       3   \n",
       "3            4         1       1   \n",
       "4            5         0       3   \n",
       "\n",
       "                                                Name     Sex   Age  SibSp  \\\n",
       "0                            Braund, Mr. Owen Harris    male  22.0      1   \n",
       "1  Cumings, Mrs. John Bradley (Florence Briggs Th...  female  38.0      1   \n",
       "2                             Heikkinen, Miss. Laina  female  26.0      0   \n",
       "3       Futrelle, Mrs. Jacques Heath (Lily May Peel)  female  35.0      1   \n",
       "4                           Allen, Mr. William Henry    male  35.0      0   \n",
       "\n",
       "   Parch            Ticket     Fare Cabin Embarked  \n",
       "0      0         A/5 21171   7.2500   NaN        S  \n",
       "1      0          PC 17599  71.2833   C85        C  \n",
       "2      0  STON/O2. 3101282   7.9250   NaN        S  \n",
       "3      0            113803  53.1000  C123        S  \n",
       "4      0            373450   8.0500   NaN        S  "
      ]
     },
     "execution_count": 8,
     "metadata": {},
     "output_type": "execute_result"
    }
   ],
   "source": [
    "# Print first 5 rows of the dataframe.\n",
    "titanic.head()"
   ]
  },
  {
   "cell_type": "code",
   "execution_count": 9,
   "metadata": {
    "execution": {
     "iopub.execute_input": "2020-08-19T12:59:43.563898Z",
     "iopub.status.busy": "2020-08-19T12:59:43.562666Z",
     "iopub.status.idle": "2020-08-19T12:59:43.567570Z",
     "shell.execute_reply": "2020-08-19T12:59:43.566778Z"
    },
    "papermill": {
     "duration": 0.048221,
     "end_time": "2020-08-19T12:59:43.567708",
     "exception": false,
     "start_time": "2020-08-19T12:59:43.519487",
     "status": "completed"
    },
    "tags": []
   },
   "outputs": [
    {
     "data": {
      "text/html": [
       "<div>\n",
       "<style scoped>\n",
       "    .dataframe tbody tr th:only-of-type {\n",
       "        vertical-align: middle;\n",
       "    }\n",
       "\n",
       "    .dataframe tbody tr th {\n",
       "        vertical-align: top;\n",
       "    }\n",
       "\n",
       "    .dataframe thead th {\n",
       "        text-align: right;\n",
       "    }\n",
       "</style>\n",
       "<table border=\"1\" class=\"dataframe\">\n",
       "  <thead>\n",
       "    <tr style=\"text-align: right;\">\n",
       "      <th></th>\n",
       "      <th>PassengerId</th>\n",
       "      <th>Pclass</th>\n",
       "      <th>Name</th>\n",
       "      <th>Sex</th>\n",
       "      <th>Age</th>\n",
       "      <th>SibSp</th>\n",
       "      <th>Parch</th>\n",
       "      <th>Ticket</th>\n",
       "      <th>Fare</th>\n",
       "      <th>Cabin</th>\n",
       "      <th>Embarked</th>\n",
       "    </tr>\n",
       "  </thead>\n",
       "  <tbody>\n",
       "    <tr>\n",
       "      <th>413</th>\n",
       "      <td>1305</td>\n",
       "      <td>3</td>\n",
       "      <td>Spector, Mr. Woolf</td>\n",
       "      <td>male</td>\n",
       "      <td>NaN</td>\n",
       "      <td>0</td>\n",
       "      <td>0</td>\n",
       "      <td>A.5. 3236</td>\n",
       "      <td>8.0500</td>\n",
       "      <td>NaN</td>\n",
       "      <td>S</td>\n",
       "    </tr>\n",
       "    <tr>\n",
       "      <th>414</th>\n",
       "      <td>1306</td>\n",
       "      <td>1</td>\n",
       "      <td>Oliva y Ocana, Dona. Fermina</td>\n",
       "      <td>female</td>\n",
       "      <td>39.0</td>\n",
       "      <td>0</td>\n",
       "      <td>0</td>\n",
       "      <td>PC 17758</td>\n",
       "      <td>108.9000</td>\n",
       "      <td>C105</td>\n",
       "      <td>C</td>\n",
       "    </tr>\n",
       "    <tr>\n",
       "      <th>415</th>\n",
       "      <td>1307</td>\n",
       "      <td>3</td>\n",
       "      <td>Saether, Mr. Simon Sivertsen</td>\n",
       "      <td>male</td>\n",
       "      <td>38.5</td>\n",
       "      <td>0</td>\n",
       "      <td>0</td>\n",
       "      <td>SOTON/O.Q. 3101262</td>\n",
       "      <td>7.2500</td>\n",
       "      <td>NaN</td>\n",
       "      <td>S</td>\n",
       "    </tr>\n",
       "    <tr>\n",
       "      <th>416</th>\n",
       "      <td>1308</td>\n",
       "      <td>3</td>\n",
       "      <td>Ware, Mr. Frederick</td>\n",
       "      <td>male</td>\n",
       "      <td>NaN</td>\n",
       "      <td>0</td>\n",
       "      <td>0</td>\n",
       "      <td>359309</td>\n",
       "      <td>8.0500</td>\n",
       "      <td>NaN</td>\n",
       "      <td>S</td>\n",
       "    </tr>\n",
       "    <tr>\n",
       "      <th>417</th>\n",
       "      <td>1309</td>\n",
       "      <td>3</td>\n",
       "      <td>Peter, Master. Michael J</td>\n",
       "      <td>male</td>\n",
       "      <td>NaN</td>\n",
       "      <td>1</td>\n",
       "      <td>1</td>\n",
       "      <td>2668</td>\n",
       "      <td>22.3583</td>\n",
       "      <td>NaN</td>\n",
       "      <td>C</td>\n",
       "    </tr>\n",
       "  </tbody>\n",
       "</table>\n",
       "</div>"
      ],
      "text/plain": [
       "     PassengerId  Pclass                          Name     Sex   Age  SibSp  \\\n",
       "413         1305       3            Spector, Mr. Woolf    male   NaN      0   \n",
       "414         1306       1  Oliva y Ocana, Dona. Fermina  female  39.0      0   \n",
       "415         1307       3  Saether, Mr. Simon Sivertsen    male  38.5      0   \n",
       "416         1308       3           Ware, Mr. Frederick    male   NaN      0   \n",
       "417         1309       3      Peter, Master. Michael J    male   NaN      1   \n",
       "\n",
       "     Parch              Ticket      Fare Cabin Embarked  \n",
       "413      0           A.5. 3236    8.0500   NaN        S  \n",
       "414      0            PC 17758  108.9000  C105        C  \n",
       "415      0  SOTON/O.Q. 3101262    7.2500   NaN        S  \n",
       "416      0              359309    8.0500   NaN        S  \n",
       "417      1                2668   22.3583   NaN        C  "
      ]
     },
     "execution_count": 9,
     "metadata": {},
     "output_type": "execute_result"
    }
   ],
   "source": [
    "# Print Last 5 rows of the dataframe.\n",
    "titanic_test.tail() "
   ]
  },
  {
   "cell_type": "markdown",
   "metadata": {
    "papermill": {
     "duration": 0.025854,
     "end_time": "2020-08-19T12:59:43.619455",
     "exception": false,
     "start_time": "2020-08-19T12:59:43.593601",
     "status": "completed"
    },
    "tags": []
   },
   "source": [
    "There is no Survived column here which is our target varible we are trying to predict.\n",
    "\n"
   ]
  },
  {
   "cell_type": "code",
   "execution_count": 10,
   "metadata": {
    "execution": {
     "iopub.execute_input": "2020-08-19T12:59:43.676972Z",
     "iopub.status.busy": "2020-08-19T12:59:43.676127Z",
     "iopub.status.idle": "2020-08-19T12:59:43.680191Z",
     "shell.execute_reply": "2020-08-19T12:59:43.679559Z"
    },
    "papermill": {
     "duration": 0.035304,
     "end_time": "2020-08-19T12:59:43.680331",
     "exception": false,
     "start_time": "2020-08-19T12:59:43.645027",
     "status": "completed"
    },
    "tags": []
   },
   "outputs": [
    {
     "data": {
      "text/plain": [
       "(891, 12)"
      ]
     },
     "execution_count": 10,
     "metadata": {},
     "output_type": "execute_result"
    }
   ],
   "source": [
    "# gives shape of datase in (rows,columns)\n",
    "titanic.shape"
   ]
  },
  {
   "cell_type": "code",
   "execution_count": 11,
   "metadata": {
    "execution": {
     "iopub.execute_input": "2020-08-19T12:59:43.751088Z",
     "iopub.status.busy": "2020-08-19T12:59:43.750247Z",
     "iopub.status.idle": "2020-08-19T12:59:43.786223Z",
     "shell.execute_reply": "2020-08-19T12:59:43.786786Z"
    },
    "papermill": {
     "duration": 0.080839,
     "end_time": "2020-08-19T12:59:43.786959",
     "exception": false,
     "start_time": "2020-08-19T12:59:43.706120",
     "status": "completed"
    },
    "tags": []
   },
   "outputs": [
    {
     "data": {
      "text/html": [
       "<div>\n",
       "<style scoped>\n",
       "    .dataframe tbody tr th:only-of-type {\n",
       "        vertical-align: middle;\n",
       "    }\n",
       "\n",
       "    .dataframe tbody tr th {\n",
       "        vertical-align: top;\n",
       "    }\n",
       "\n",
       "    .dataframe thead th {\n",
       "        text-align: right;\n",
       "    }\n",
       "</style>\n",
       "<table border=\"1\" class=\"dataframe\">\n",
       "  <thead>\n",
       "    <tr style=\"text-align: right;\">\n",
       "      <th></th>\n",
       "      <th>PassengerId</th>\n",
       "      <th>Survived</th>\n",
       "      <th>Pclass</th>\n",
       "      <th>Age</th>\n",
       "      <th>SibSp</th>\n",
       "      <th>Parch</th>\n",
       "      <th>Fare</th>\n",
       "    </tr>\n",
       "  </thead>\n",
       "  <tbody>\n",
       "    <tr>\n",
       "      <th>count</th>\n",
       "      <td>891.000000</td>\n",
       "      <td>891.000000</td>\n",
       "      <td>891.000000</td>\n",
       "      <td>714.000000</td>\n",
       "      <td>891.000000</td>\n",
       "      <td>891.000000</td>\n",
       "      <td>891.000000</td>\n",
       "    </tr>\n",
       "    <tr>\n",
       "      <th>mean</th>\n",
       "      <td>446.000000</td>\n",
       "      <td>0.383838</td>\n",
       "      <td>2.308642</td>\n",
       "      <td>29.699118</td>\n",
       "      <td>0.523008</td>\n",
       "      <td>0.381594</td>\n",
       "      <td>32.204208</td>\n",
       "    </tr>\n",
       "    <tr>\n",
       "      <th>std</th>\n",
       "      <td>257.353842</td>\n",
       "      <td>0.486592</td>\n",
       "      <td>0.836071</td>\n",
       "      <td>14.526497</td>\n",
       "      <td>1.102743</td>\n",
       "      <td>0.806057</td>\n",
       "      <td>49.693429</td>\n",
       "    </tr>\n",
       "    <tr>\n",
       "      <th>min</th>\n",
       "      <td>1.000000</td>\n",
       "      <td>0.000000</td>\n",
       "      <td>1.000000</td>\n",
       "      <td>0.420000</td>\n",
       "      <td>0.000000</td>\n",
       "      <td>0.000000</td>\n",
       "      <td>0.000000</td>\n",
       "    </tr>\n",
       "    <tr>\n",
       "      <th>25%</th>\n",
       "      <td>223.500000</td>\n",
       "      <td>0.000000</td>\n",
       "      <td>2.000000</td>\n",
       "      <td>20.125000</td>\n",
       "      <td>0.000000</td>\n",
       "      <td>0.000000</td>\n",
       "      <td>7.910400</td>\n",
       "    </tr>\n",
       "    <tr>\n",
       "      <th>50%</th>\n",
       "      <td>446.000000</td>\n",
       "      <td>0.000000</td>\n",
       "      <td>3.000000</td>\n",
       "      <td>28.000000</td>\n",
       "      <td>0.000000</td>\n",
       "      <td>0.000000</td>\n",
       "      <td>14.454200</td>\n",
       "    </tr>\n",
       "    <tr>\n",
       "      <th>75%</th>\n",
       "      <td>668.500000</td>\n",
       "      <td>1.000000</td>\n",
       "      <td>3.000000</td>\n",
       "      <td>38.000000</td>\n",
       "      <td>1.000000</td>\n",
       "      <td>0.000000</td>\n",
       "      <td>31.000000</td>\n",
       "    </tr>\n",
       "    <tr>\n",
       "      <th>max</th>\n",
       "      <td>891.000000</td>\n",
       "      <td>1.000000</td>\n",
       "      <td>3.000000</td>\n",
       "      <td>80.000000</td>\n",
       "      <td>8.000000</td>\n",
       "      <td>6.000000</td>\n",
       "      <td>512.329200</td>\n",
       "    </tr>\n",
       "  </tbody>\n",
       "</table>\n",
       "</div>"
      ],
      "text/plain": [
       "       PassengerId    Survived      Pclass         Age       SibSp  \\\n",
       "count   891.000000  891.000000  891.000000  714.000000  891.000000   \n",
       "mean    446.000000    0.383838    2.308642   29.699118    0.523008   \n",
       "std     257.353842    0.486592    0.836071   14.526497    1.102743   \n",
       "min       1.000000    0.000000    1.000000    0.420000    0.000000   \n",
       "25%     223.500000    0.000000    2.000000   20.125000    0.000000   \n",
       "50%     446.000000    0.000000    3.000000   28.000000    0.000000   \n",
       "75%     668.500000    1.000000    3.000000   38.000000    1.000000   \n",
       "max     891.000000    1.000000    3.000000   80.000000    8.000000   \n",
       "\n",
       "            Parch        Fare  \n",
       "count  891.000000  891.000000  \n",
       "mean     0.381594   32.204208  \n",
       "std      0.806057   49.693429  \n",
       "min      0.000000    0.000000  \n",
       "25%      0.000000    7.910400  \n",
       "50%      0.000000   14.454200  \n",
       "75%      0.000000   31.000000  \n",
       "max      6.000000  512.329200  "
      ]
     },
     "execution_count": 11,
     "metadata": {},
     "output_type": "execute_result"
    }
   ],
   "source": [
    "# Describe gives us statistical information about numerical columns in the dataset\n",
    "titanic.describe()"
   ]
  },
  {
   "cell_type": "markdown",
   "metadata": {
    "papermill": {
     "duration": 0.02575,
     "end_time": "2020-08-19T12:59:43.838885",
     "exception": false,
     "start_time": "2020-08-19T12:59:43.813135",
     "status": "completed"
    },
    "tags": []
   },
   "source": [
    "we can check from count if there are missing values in columns, here 'age' has missing values.\n",
    "\n",
    "Also we can see that 38% out of the training-set survived in Titanic.\n",
    "\n",
    "We can also see that the passenger's age range from 0.4 to 80."
   ]
  },
  {
   "cell_type": "code",
   "execution_count": 12,
   "metadata": {
    "execution": {
     "iopub.execute_input": "2020-08-19T12:59:43.904660Z",
     "iopub.status.busy": "2020-08-19T12:59:43.903485Z",
     "iopub.status.idle": "2020-08-19T12:59:43.934152Z",
     "shell.execute_reply": "2020-08-19T12:59:43.933281Z"
    },
    "papermill": {
     "duration": 0.069274,
     "end_time": "2020-08-19T12:59:43.934301",
     "exception": false,
     "start_time": "2020-08-19T12:59:43.865027",
     "status": "completed"
    },
    "tags": []
   },
   "outputs": [
    {
     "name": "stdout",
     "output_type": "stream",
     "text": [
      "Genders: ['male' 'female']\n",
      "Embarked: ['S' 'C' 'Q' nan]\n",
      "Pclass: [3 1 2]\n",
      "Survived: [0 1]\n",
      "SibSp Range: 0 - 8\n",
      "Parch Range: 0 - 6\n",
      "Family size range: 0 - 10\n",
      "Fare Range: 0.0 - 512.3292\n"
     ]
    }
   ],
   "source": [
    "# unique values or range for feature set\n",
    "print('Genders:', titanic['Sex'].unique())\n",
    "print('Embarked:', titanic['Embarked'].unique())\n",
    "print('Pclass:', titanic['Pclass'].unique())\n",
    "print('Survived:', titanic['Survived'].unique())\n",
    "print('SibSp Range:', titanic['SibSp'].min(),'-',titanic['SibSp'].max())\n",
    "print('Parch Range:', titanic['Parch'].min(),'-',titanic['Parch'].max())\n",
    "print('Family size range:', (titanic['Parch']+titanic['SibSp']).min(),'-',(titanic['Parch']+titanic['SibSp']).max())\n",
    "print('Fare Range:', titanic['Fare'].min(),'-',titanic['Fare'].max())"
   ]
  },
  {
   "cell_type": "code",
   "execution_count": 13,
   "metadata": {
    "execution": {
     "iopub.execute_input": "2020-08-19T12:59:44.002614Z",
     "iopub.status.busy": "2020-08-19T12:59:43.994232Z",
     "iopub.status.idle": "2020-08-19T12:59:44.007926Z",
     "shell.execute_reply": "2020-08-19T12:59:44.006558Z"
    },
    "papermill": {
     "duration": 0.04704,
     "end_time": "2020-08-19T12:59:44.008163",
     "exception": false,
     "start_time": "2020-08-19T12:59:43.961123",
     "status": "completed"
    },
    "tags": []
   },
   "outputs": [
    {
     "name": "stdout",
     "output_type": "stream",
     "text": [
      "<class 'pandas.core.frame.DataFrame'>\n",
      "RangeIndex: 891 entries, 0 to 890\n",
      "Data columns (total 12 columns):\n",
      " #   Column       Non-Null Count  Dtype  \n",
      "---  ------       --------------  -----  \n",
      " 0   PassengerId  891 non-null    int64  \n",
      " 1   Survived     891 non-null    int64  \n",
      " 2   Pclass       891 non-null    int64  \n",
      " 3   Name         891 non-null    object \n",
      " 4   Sex          891 non-null    object \n",
      " 5   Age          714 non-null    float64\n",
      " 6   SibSp        891 non-null    int64  \n",
      " 7   Parch        891 non-null    int64  \n",
      " 8   Ticket       891 non-null    object \n",
      " 9   Fare         891 non-null    float64\n",
      " 10  Cabin        204 non-null    object \n",
      " 11  Embarked     889 non-null    object \n",
      "dtypes: float64(2), int64(5), object(5)\n",
      "memory usage: 83.7+ KB\n"
     ]
    }
   ],
   "source": [
    "# info method provides information about dataset like \n",
    "# total values in each column, null/not null, datatype, memory occupied etc\n",
    "titanic.info()"
   ]
  },
  {
   "cell_type": "markdown",
   "metadata": {
    "papermill": {
     "duration": 0.026036,
     "end_time": "2020-08-19T12:59:44.061637",
     "exception": false,
     "start_time": "2020-08-19T12:59:44.035601",
     "status": "completed"
    },
    "tags": []
   },
   "source": [
    " Also Embarked and cabin has missing values.\n",
    " \n",
    " ##  Missing Values \n",
    " \n",
    " First we will visulize missing values.In which column missing values are present?"
   ]
  },
  {
   "cell_type": "markdown",
   "metadata": {
    "papermill": {
     "duration": 0.026716,
     "end_time": "2020-08-19T12:59:44.703309",
     "exception": false,
     "start_time": "2020-08-19T12:59:44.676593",
     "status": "completed"
    },
    "tags": []
   },
   "source": [
    "We can see that Age, Embarked and cabin has missing values. now, lets check missing values for test data."
   ]
  },
  {
   "cell_type": "markdown",
   "metadata": {
    "papermill": {
     "duration": 0.027565,
     "end_time": "2020-08-19T12:59:45.264367",
     "exception": false,
     "start_time": "2020-08-19T12:59:45.236802",
     "status": "completed"
    },
    "tags": []
   },
   "source": [
    "cabin, age and fare has missing values in test data."
   ]
  },
  {
   "cell_type": "code",
   "execution_count": 16,
   "metadata": {
    "execution": {
     "iopub.execute_input": "2020-08-19T12:59:45.329893Z",
     "iopub.status.busy": "2020-08-19T12:59:45.328856Z",
     "iopub.status.idle": "2020-08-19T12:59:45.331385Z",
     "shell.execute_reply": "2020-08-19T12:59:45.331911Z"
    },
    "papermill": {
     "duration": 0.039478,
     "end_time": "2020-08-19T12:59:45.332108",
     "exception": false,
     "start_time": "2020-08-19T12:59:45.292630",
     "status": "completed"
    },
    "tags": []
   },
   "outputs": [],
   "source": [
    "# Let's write a function to print the total percentage of the missing values.\n",
    "# (This can be a good excercise for beginers to try to write sample function like this)\n",
    "\n",
    "# This function takes a Dataframe (df) as input and returns two columns,total missing values and total missing alues percentage\n",
    "def missing_data(df):\n",
    "    total = df.isnull().sum().sort_values(ascending = False)\n",
    "    percent = round(df.isnull().sum().sort_values(ascending = False) * 100 /len(df),2)\n",
    "    return pd.concat([total,percent], axis = 1 ,keys = ['total','percent'])"
   ]
  },
  {
   "cell_type": "code",
   "execution_count": 17,
   "metadata": {
    "execution": {
     "iopub.execute_input": "2020-08-19T12:59:45.409766Z",
     "iopub.status.busy": "2020-08-19T12:59:45.408744Z",
     "iopub.status.idle": "2020-08-19T12:59:45.413892Z",
     "shell.execute_reply": "2020-08-19T12:59:45.413278Z"
    },
    "papermill": {
     "duration": 0.053183,
     "end_time": "2020-08-19T12:59:45.414057",
     "exception": false,
     "start_time": "2020-08-19T12:59:45.360874",
     "status": "completed"
    },
    "tags": []
   },
   "outputs": [
    {
     "data": {
      "text/html": [
       "<div>\n",
       "<style scoped>\n",
       "    .dataframe tbody tr th:only-of-type {\n",
       "        vertical-align: middle;\n",
       "    }\n",
       "\n",
       "    .dataframe tbody tr th {\n",
       "        vertical-align: top;\n",
       "    }\n",
       "\n",
       "    .dataframe thead th {\n",
       "        text-align: right;\n",
       "    }\n",
       "</style>\n",
       "<table border=\"1\" class=\"dataframe\">\n",
       "  <thead>\n",
       "    <tr style=\"text-align: right;\">\n",
       "      <th></th>\n",
       "      <th>total</th>\n",
       "      <th>percent</th>\n",
       "    </tr>\n",
       "  </thead>\n",
       "  <tbody>\n",
       "    <tr>\n",
       "      <th>Cabin</th>\n",
       "      <td>687</td>\n",
       "      <td>77.10</td>\n",
       "    </tr>\n",
       "    <tr>\n",
       "      <th>Age</th>\n",
       "      <td>177</td>\n",
       "      <td>19.87</td>\n",
       "    </tr>\n",
       "    <tr>\n",
       "      <th>Embarked</th>\n",
       "      <td>2</td>\n",
       "      <td>0.22</td>\n",
       "    </tr>\n",
       "    <tr>\n",
       "      <th>PassengerId</th>\n",
       "      <td>0</td>\n",
       "      <td>0.00</td>\n",
       "    </tr>\n",
       "    <tr>\n",
       "      <th>Survived</th>\n",
       "      <td>0</td>\n",
       "      <td>0.00</td>\n",
       "    </tr>\n",
       "    <tr>\n",
       "      <th>Pclass</th>\n",
       "      <td>0</td>\n",
       "      <td>0.00</td>\n",
       "    </tr>\n",
       "    <tr>\n",
       "      <th>Name</th>\n",
       "      <td>0</td>\n",
       "      <td>0.00</td>\n",
       "    </tr>\n",
       "    <tr>\n",
       "      <th>Sex</th>\n",
       "      <td>0</td>\n",
       "      <td>0.00</td>\n",
       "    </tr>\n",
       "    <tr>\n",
       "      <th>SibSp</th>\n",
       "      <td>0</td>\n",
       "      <td>0.00</td>\n",
       "    </tr>\n",
       "    <tr>\n",
       "      <th>Parch</th>\n",
       "      <td>0</td>\n",
       "      <td>0.00</td>\n",
       "    </tr>\n",
       "    <tr>\n",
       "      <th>Ticket</th>\n",
       "      <td>0</td>\n",
       "      <td>0.00</td>\n",
       "    </tr>\n",
       "    <tr>\n",
       "      <th>Fare</th>\n",
       "      <td>0</td>\n",
       "      <td>0.00</td>\n",
       "    </tr>\n",
       "  </tbody>\n",
       "</table>\n",
       "</div>"
      ],
      "text/plain": [
       "             total  percent\n",
       "Cabin          687    77.10\n",
       "Age            177    19.87\n",
       "Embarked         2     0.22\n",
       "PassengerId      0     0.00\n",
       "Survived         0     0.00\n",
       "Pclass           0     0.00\n",
       "Name             0     0.00\n",
       "Sex              0     0.00\n",
       "SibSp            0     0.00\n",
       "Parch            0     0.00\n",
       "Ticket           0     0.00\n",
       "Fare             0     0.00"
      ]
     },
     "execution_count": 17,
     "metadata": {},
     "output_type": "execute_result"
    }
   ],
   "source": [
    "missing_data(titanic)"
   ]
  },
  {
   "cell_type": "markdown",
   "metadata": {
    "papermill": {
     "duration": 0.027986,
     "end_time": "2020-08-19T12:59:45.470511",
     "exception": false,
     "start_time": "2020-08-19T12:59:45.442525",
     "status": "completed"
    },
    "tags": []
   },
   "source": [
    "now, lets check missing values for test data."
   ]
  },
  {
   "cell_type": "code",
   "execution_count": 18,
   "metadata": {
    "execution": {
     "iopub.execute_input": "2020-08-19T12:59:45.554567Z",
     "iopub.status.busy": "2020-08-19T12:59:45.553633Z",
     "iopub.status.idle": "2020-08-19T12:59:45.558841Z",
     "shell.execute_reply": "2020-08-19T12:59:45.558212Z"
    },
    "papermill": {
     "duration": 0.054067,
     "end_time": "2020-08-19T12:59:45.558981",
     "exception": false,
     "start_time": "2020-08-19T12:59:45.504914",
     "status": "completed"
    },
    "tags": []
   },
   "outputs": [
    {
     "data": {
      "text/html": [
       "<div>\n",
       "<style scoped>\n",
       "    .dataframe tbody tr th:only-of-type {\n",
       "        vertical-align: middle;\n",
       "    }\n",
       "\n",
       "    .dataframe tbody tr th {\n",
       "        vertical-align: top;\n",
       "    }\n",
       "\n",
       "    .dataframe thead th {\n",
       "        text-align: right;\n",
       "    }\n",
       "</style>\n",
       "<table border=\"1\" class=\"dataframe\">\n",
       "  <thead>\n",
       "    <tr style=\"text-align: right;\">\n",
       "      <th></th>\n",
       "      <th>total</th>\n",
       "      <th>percent</th>\n",
       "    </tr>\n",
       "  </thead>\n",
       "  <tbody>\n",
       "    <tr>\n",
       "      <th>Cabin</th>\n",
       "      <td>327</td>\n",
       "      <td>78.23</td>\n",
       "    </tr>\n",
       "    <tr>\n",
       "      <th>Age</th>\n",
       "      <td>86</td>\n",
       "      <td>20.57</td>\n",
       "    </tr>\n",
       "    <tr>\n",
       "      <th>Fare</th>\n",
       "      <td>1</td>\n",
       "      <td>0.24</td>\n",
       "    </tr>\n",
       "    <tr>\n",
       "      <th>PassengerId</th>\n",
       "      <td>0</td>\n",
       "      <td>0.00</td>\n",
       "    </tr>\n",
       "    <tr>\n",
       "      <th>Pclass</th>\n",
       "      <td>0</td>\n",
       "      <td>0.00</td>\n",
       "    </tr>\n",
       "    <tr>\n",
       "      <th>Name</th>\n",
       "      <td>0</td>\n",
       "      <td>0.00</td>\n",
       "    </tr>\n",
       "    <tr>\n",
       "      <th>Sex</th>\n",
       "      <td>0</td>\n",
       "      <td>0.00</td>\n",
       "    </tr>\n",
       "    <tr>\n",
       "      <th>SibSp</th>\n",
       "      <td>0</td>\n",
       "      <td>0.00</td>\n",
       "    </tr>\n",
       "    <tr>\n",
       "      <th>Parch</th>\n",
       "      <td>0</td>\n",
       "      <td>0.00</td>\n",
       "    </tr>\n",
       "    <tr>\n",
       "      <th>Ticket</th>\n",
       "      <td>0</td>\n",
       "      <td>0.00</td>\n",
       "    </tr>\n",
       "    <tr>\n",
       "      <th>Embarked</th>\n",
       "      <td>0</td>\n",
       "      <td>0.00</td>\n",
       "    </tr>\n",
       "  </tbody>\n",
       "</table>\n",
       "</div>"
      ],
      "text/plain": [
       "             total  percent\n",
       "Cabin          327    78.23\n",
       "Age             86    20.57\n",
       "Fare             1     0.24\n",
       "PassengerId      0     0.00\n",
       "Pclass           0     0.00\n",
       "Name             0     0.00\n",
       "Sex              0     0.00\n",
       "SibSp            0     0.00\n",
       "Parch            0     0.00\n",
       "Ticket           0     0.00\n",
       "Embarked         0     0.00"
      ]
     },
     "execution_count": 18,
     "metadata": {},
     "output_type": "execute_result"
    }
   ],
   "source": [
    "# check missing values in test dataset\n",
    "missing_data(titanic_test)"
   ]
  },
  {
   "cell_type": "markdown",
   "metadata": {
    "papermill": {
     "duration": 0.028278,
     "end_time": "2020-08-19T12:59:45.615873",
     "exception": false,
     "start_time": "2020-08-19T12:59:45.587595",
     "status": "completed"
    },
    "tags": []
   },
   "source": [
    " we will see how to deal with these missing valus next."
   ]
  },
  {
   "cell_type": "code",
   "execution_count": 19,
   "metadata": {
    "execution": {
     "iopub.execute_input": "2020-08-19T12:59:45.687130Z",
     "iopub.status.busy": "2020-08-19T12:59:45.686295Z",
     "iopub.status.idle": "2020-08-19T12:59:45.690106Z",
     "shell.execute_reply": "2020-08-19T12:59:45.689296Z"
    },
    "papermill": {
     "duration": 0.045545,
     "end_time": "2020-08-19T12:59:45.690241",
     "exception": false,
     "start_time": "2020-08-19T12:59:45.644696",
     "status": "completed"
    },
    "tags": []
   },
   "outputs": [],
   "source": [
    "# COMPLETING: complete or delete missing values in train and test dataset\n",
    "dataset = [titanic,titanic_test]\n",
    "\n",
    "for data in dataset:\n",
    "    # coplete missing age with median\n",
    "    data['Age'].fillna(data['Age'].median(),inplace = True)\n",
    "    \n",
    "    # complete Embarked with mode\n",
    "    data['Embarked'].fillna(data['Embarked'].mode()[0], inplace = True)\n",
    "    \n",
    "    # complete missing Fare with median\n",
    "    data['Fare'].fillna(data['Fare'].median(),inplace = True)"
   ]
  },
  {
   "cell_type": "code",
   "execution_count": 20,
   "metadata": {
    "execution": {
     "iopub.execute_input": "2020-08-19T12:59:45.766917Z",
     "iopub.status.busy": "2020-08-19T12:59:45.765865Z",
     "iopub.status.idle": "2020-08-19T12:59:45.770464Z",
     "shell.execute_reply": "2020-08-19T12:59:45.771086Z"
    },
    "papermill": {
     "duration": 0.052045,
     "end_time": "2020-08-19T12:59:45.771255",
     "exception": false,
     "start_time": "2020-08-19T12:59:45.719210",
     "status": "completed"
    },
    "tags": []
   },
   "outputs": [
    {
     "data": {
      "text/html": [
       "<div>\n",
       "<style scoped>\n",
       "    .dataframe tbody tr th:only-of-type {\n",
       "        vertical-align: middle;\n",
       "    }\n",
       "\n",
       "    .dataframe tbody tr th {\n",
       "        vertical-align: top;\n",
       "    }\n",
       "\n",
       "    .dataframe thead th {\n",
       "        text-align: right;\n",
       "    }\n",
       "</style>\n",
       "<table border=\"1\" class=\"dataframe\">\n",
       "  <thead>\n",
       "    <tr style=\"text-align: right;\">\n",
       "      <th></th>\n",
       "      <th>total</th>\n",
       "      <th>percent</th>\n",
       "    </tr>\n",
       "  </thead>\n",
       "  <tbody>\n",
       "    <tr>\n",
       "      <th>Cabin</th>\n",
       "      <td>687</td>\n",
       "      <td>77.1</td>\n",
       "    </tr>\n",
       "    <tr>\n",
       "      <th>PassengerId</th>\n",
       "      <td>0</td>\n",
       "      <td>0.0</td>\n",
       "    </tr>\n",
       "    <tr>\n",
       "      <th>Survived</th>\n",
       "      <td>0</td>\n",
       "      <td>0.0</td>\n",
       "    </tr>\n",
       "    <tr>\n",
       "      <th>Pclass</th>\n",
       "      <td>0</td>\n",
       "      <td>0.0</td>\n",
       "    </tr>\n",
       "    <tr>\n",
       "      <th>Name</th>\n",
       "      <td>0</td>\n",
       "      <td>0.0</td>\n",
       "    </tr>\n",
       "    <tr>\n",
       "      <th>Sex</th>\n",
       "      <td>0</td>\n",
       "      <td>0.0</td>\n",
       "    </tr>\n",
       "    <tr>\n",
       "      <th>Age</th>\n",
       "      <td>0</td>\n",
       "      <td>0.0</td>\n",
       "    </tr>\n",
       "    <tr>\n",
       "      <th>SibSp</th>\n",
       "      <td>0</td>\n",
       "      <td>0.0</td>\n",
       "    </tr>\n",
       "    <tr>\n",
       "      <th>Parch</th>\n",
       "      <td>0</td>\n",
       "      <td>0.0</td>\n",
       "    </tr>\n",
       "    <tr>\n",
       "      <th>Ticket</th>\n",
       "      <td>0</td>\n",
       "      <td>0.0</td>\n",
       "    </tr>\n",
       "    <tr>\n",
       "      <th>Fare</th>\n",
       "      <td>0</td>\n",
       "      <td>0.0</td>\n",
       "    </tr>\n",
       "    <tr>\n",
       "      <th>Embarked</th>\n",
       "      <td>0</td>\n",
       "      <td>0.0</td>\n",
       "    </tr>\n",
       "  </tbody>\n",
       "</table>\n",
       "</div>"
      ],
      "text/plain": [
       "             total  percent\n",
       "Cabin          687     77.1\n",
       "PassengerId      0      0.0\n",
       "Survived         0      0.0\n",
       "Pclass           0      0.0\n",
       "Name             0      0.0\n",
       "Sex              0      0.0\n",
       "Age              0      0.0\n",
       "SibSp            0      0.0\n",
       "Parch            0      0.0\n",
       "Ticket           0      0.0\n",
       "Fare             0      0.0\n",
       "Embarked         0      0.0"
      ]
     },
     "execution_count": 20,
     "metadata": {},
     "output_type": "execute_result"
    }
   ],
   "source": [
    "missing_data(titanic)"
   ]
  },
  {
   "cell_type": "markdown",
   "metadata": {
    "papermill": {
     "duration": 0.029451,
     "end_time": "2020-08-19T12:59:45.830394",
     "exception": false,
     "start_time": "2020-08-19T12:59:45.800943",
     "status": "completed"
    },
    "tags": []
   },
   "source": [
    "### Note: Column \"Cabin\" has more than 75% of missing values in both train and test dataset.\n",
    "#### Suggestion: Not to impute missing data in columns, which have more than 40% of missing data."
   ]
  },
  {
   "cell_type": "code",
   "execution_count": 21,
   "metadata": {
    "execution": {
     "iopub.execute_input": "2020-08-19T12:59:45.898538Z",
     "iopub.status.busy": "2020-08-19T12:59:45.897636Z",
     "iopub.status.idle": "2020-08-19T12:59:45.901593Z",
     "shell.execute_reply": "2020-08-19T12:59:45.900805Z"
    },
    "papermill": {
     "duration": 0.042282,
     "end_time": "2020-08-19T12:59:45.901728",
     "exception": false,
     "start_time": "2020-08-19T12:59:45.859446",
     "status": "completed"
    },
    "tags": []
   },
   "outputs": [],
   "source": [
    "titanic.drop(['Cabin'], axis=1, inplace = True)\n",
    "titanic_test.drop(['Cabin'],axis=1,inplace=True)"
   ]
  },
  {
   "cell_type": "code",
   "execution_count": 22,
   "metadata": {
    "execution": {
     "iopub.execute_input": "2020-08-19T12:59:46.032788Z",
     "iopub.status.busy": "2020-08-19T12:59:46.031749Z",
     "iopub.status.idle": "2020-08-19T12:59:46.036238Z",
     "shell.execute_reply": "2020-08-19T12:59:46.036767Z"
    },
    "papermill": {
     "duration": 0.105993,
     "end_time": "2020-08-19T12:59:46.036933",
     "exception": false,
     "start_time": "2020-08-19T12:59:45.930940",
     "status": "completed"
    },
    "tags": []
   },
   "outputs": [
    {
     "data": {
      "text/html": [
       "<div>\n",
       "<style scoped>\n",
       "    .dataframe tbody tr th:only-of-type {\n",
       "        vertical-align: middle;\n",
       "    }\n",
       "\n",
       "    .dataframe tbody tr th {\n",
       "        vertical-align: top;\n",
       "    }\n",
       "\n",
       "    .dataframe thead th {\n",
       "        text-align: right;\n",
       "    }\n",
       "</style>\n",
       "<table border=\"1\" class=\"dataframe\">\n",
       "  <thead>\n",
       "    <tr style=\"text-align: right;\">\n",
       "      <th></th>\n",
       "      <th>PassengerId</th>\n",
       "      <th>Survived</th>\n",
       "      <th>Pclass</th>\n",
       "      <th>Name</th>\n",
       "      <th>Sex</th>\n",
       "      <th>Age</th>\n",
       "      <th>SibSp</th>\n",
       "      <th>Parch</th>\n",
       "      <th>Ticket</th>\n",
       "      <th>Fare</th>\n",
       "      <th>Embarked</th>\n",
       "    </tr>\n",
       "  </thead>\n",
       "  <tbody>\n",
       "    <tr>\n",
       "      <th>0</th>\n",
       "      <td>1</td>\n",
       "      <td>0</td>\n",
       "      <td>3</td>\n",
       "      <td>Braund, Mr. Owen Harris</td>\n",
       "      <td>male</td>\n",
       "      <td>22.0</td>\n",
       "      <td>1</td>\n",
       "      <td>0</td>\n",
       "      <td>A/5 21171</td>\n",
       "      <td>7.2500</td>\n",
       "      <td>S</td>\n",
       "    </tr>\n",
       "    <tr>\n",
       "      <th>1</th>\n",
       "      <td>2</td>\n",
       "      <td>1</td>\n",
       "      <td>1</td>\n",
       "      <td>Cumings, Mrs. John Bradley (Florence Briggs Th...</td>\n",
       "      <td>female</td>\n",
       "      <td>38.0</td>\n",
       "      <td>1</td>\n",
       "      <td>0</td>\n",
       "      <td>PC 17599</td>\n",
       "      <td>71.2833</td>\n",
       "      <td>C</td>\n",
       "    </tr>\n",
       "    <tr>\n",
       "      <th>2</th>\n",
       "      <td>3</td>\n",
       "      <td>1</td>\n",
       "      <td>3</td>\n",
       "      <td>Heikkinen, Miss. Laina</td>\n",
       "      <td>female</td>\n",
       "      <td>26.0</td>\n",
       "      <td>0</td>\n",
       "      <td>0</td>\n",
       "      <td>STON/O2. 3101282</td>\n",
       "      <td>7.9250</td>\n",
       "      <td>S</td>\n",
       "    </tr>\n",
       "    <tr>\n",
       "      <th>3</th>\n",
       "      <td>4</td>\n",
       "      <td>1</td>\n",
       "      <td>1</td>\n",
       "      <td>Futrelle, Mrs. Jacques Heath (Lily May Peel)</td>\n",
       "      <td>female</td>\n",
       "      <td>35.0</td>\n",
       "      <td>1</td>\n",
       "      <td>0</td>\n",
       "      <td>113803</td>\n",
       "      <td>53.1000</td>\n",
       "      <td>S</td>\n",
       "    </tr>\n",
       "    <tr>\n",
       "      <th>4</th>\n",
       "      <td>5</td>\n",
       "      <td>0</td>\n",
       "      <td>3</td>\n",
       "      <td>Allen, Mr. William Henry</td>\n",
       "      <td>male</td>\n",
       "      <td>35.0</td>\n",
       "      <td>0</td>\n",
       "      <td>0</td>\n",
       "      <td>373450</td>\n",
       "      <td>8.0500</td>\n",
       "      <td>S</td>\n",
       "    </tr>\n",
       "  </tbody>\n",
       "</table>\n",
       "</div>"
      ],
      "text/plain": [
       "   PassengerId  Survived  Pclass  \\\n",
       "0            1         0       3   \n",
       "1            2         1       1   \n",
       "2            3         1       3   \n",
       "3            4         1       1   \n",
       "4            5         0       3   \n",
       "\n",
       "                                                Name     Sex   Age  SibSp  \\\n",
       "0                            Braund, Mr. Owen Harris    male  22.0      1   \n",
       "1  Cumings, Mrs. John Bradley (Florence Briggs Th...  female  38.0      1   \n",
       "2                             Heikkinen, Miss. Laina  female  26.0      0   \n",
       "3       Futrelle, Mrs. Jacques Heath (Lily May Peel)  female  35.0      1   \n",
       "4                           Allen, Mr. William Henry    male  35.0      0   \n",
       "\n",
       "   Parch            Ticket     Fare Embarked  \n",
       "0      0         A/5 21171   7.2500        S  \n",
       "1      0          PC 17599  71.2833        C  \n",
       "2      0  STON/O2. 3101282   7.9250        S  \n",
       "3      0            113803  53.1000        S  \n",
       "4      0            373450   8.0500        S  "
      ]
     },
     "execution_count": 22,
     "metadata": {},
     "output_type": "execute_result"
    }
   ],
   "source": [
    "titanic.head()"
   ]
  },
  {
   "cell_type": "code",
   "execution_count": 23,
   "metadata": {
    "execution": {
     "iopub.execute_input": "2020-08-19T12:59:46.116216Z",
     "iopub.status.busy": "2020-08-19T12:59:46.115159Z",
     "iopub.status.idle": "2020-08-19T12:59:46.121363Z",
     "shell.execute_reply": "2020-08-19T12:59:46.120570Z"
    },
    "papermill": {
     "duration": 0.0549,
     "end_time": "2020-08-19T12:59:46.121495",
     "exception": false,
     "start_time": "2020-08-19T12:59:46.066595",
     "status": "completed"
    },
    "tags": []
   },
   "outputs": [
    {
     "data": {
      "text/html": [
       "<div>\n",
       "<style scoped>\n",
       "    .dataframe tbody tr th:only-of-type {\n",
       "        vertical-align: middle;\n",
       "    }\n",
       "\n",
       "    .dataframe tbody tr th {\n",
       "        vertical-align: top;\n",
       "    }\n",
       "\n",
       "    .dataframe thead th {\n",
       "        text-align: right;\n",
       "    }\n",
       "</style>\n",
       "<table border=\"1\" class=\"dataframe\">\n",
       "  <thead>\n",
       "    <tr style=\"text-align: right;\">\n",
       "      <th></th>\n",
       "      <th>PassengerId</th>\n",
       "      <th>Pclass</th>\n",
       "      <th>Name</th>\n",
       "      <th>Sex</th>\n",
       "      <th>Age</th>\n",
       "      <th>SibSp</th>\n",
       "      <th>Parch</th>\n",
       "      <th>Ticket</th>\n",
       "      <th>Fare</th>\n",
       "      <th>Embarked</th>\n",
       "    </tr>\n",
       "  </thead>\n",
       "  <tbody>\n",
       "    <tr>\n",
       "      <th>0</th>\n",
       "      <td>892</td>\n",
       "      <td>3</td>\n",
       "      <td>Kelly, Mr. James</td>\n",
       "      <td>male</td>\n",
       "      <td>34.5</td>\n",
       "      <td>0</td>\n",
       "      <td>0</td>\n",
       "      <td>330911</td>\n",
       "      <td>7.8292</td>\n",
       "      <td>Q</td>\n",
       "    </tr>\n",
       "    <tr>\n",
       "      <th>1</th>\n",
       "      <td>893</td>\n",
       "      <td>3</td>\n",
       "      <td>Wilkes, Mrs. James (Ellen Needs)</td>\n",
       "      <td>female</td>\n",
       "      <td>47.0</td>\n",
       "      <td>1</td>\n",
       "      <td>0</td>\n",
       "      <td>363272</td>\n",
       "      <td>7.0000</td>\n",
       "      <td>S</td>\n",
       "    </tr>\n",
       "    <tr>\n",
       "      <th>2</th>\n",
       "      <td>894</td>\n",
       "      <td>2</td>\n",
       "      <td>Myles, Mr. Thomas Francis</td>\n",
       "      <td>male</td>\n",
       "      <td>62.0</td>\n",
       "      <td>0</td>\n",
       "      <td>0</td>\n",
       "      <td>240276</td>\n",
       "      <td>9.6875</td>\n",
       "      <td>Q</td>\n",
       "    </tr>\n",
       "    <tr>\n",
       "      <th>3</th>\n",
       "      <td>895</td>\n",
       "      <td>3</td>\n",
       "      <td>Wirz, Mr. Albert</td>\n",
       "      <td>male</td>\n",
       "      <td>27.0</td>\n",
       "      <td>0</td>\n",
       "      <td>0</td>\n",
       "      <td>315154</td>\n",
       "      <td>8.6625</td>\n",
       "      <td>S</td>\n",
       "    </tr>\n",
       "    <tr>\n",
       "      <th>4</th>\n",
       "      <td>896</td>\n",
       "      <td>3</td>\n",
       "      <td>Hirvonen, Mrs. Alexander (Helga E Lindqvist)</td>\n",
       "      <td>female</td>\n",
       "      <td>22.0</td>\n",
       "      <td>1</td>\n",
       "      <td>1</td>\n",
       "      <td>3101298</td>\n",
       "      <td>12.2875</td>\n",
       "      <td>S</td>\n",
       "    </tr>\n",
       "  </tbody>\n",
       "</table>\n",
       "</div>"
      ],
      "text/plain": [
       "   PassengerId  Pclass                                          Name     Sex  \\\n",
       "0          892       3                              Kelly, Mr. James    male   \n",
       "1          893       3              Wilkes, Mrs. James (Ellen Needs)  female   \n",
       "2          894       2                     Myles, Mr. Thomas Francis    male   \n",
       "3          895       3                              Wirz, Mr. Albert    male   \n",
       "4          896       3  Hirvonen, Mrs. Alexander (Helga E Lindqvist)  female   \n",
       "\n",
       "    Age  SibSp  Parch   Ticket     Fare Embarked  \n",
       "0  34.5      0      0   330911   7.8292        Q  \n",
       "1  47.0      1      0   363272   7.0000        S  \n",
       "2  62.0      0      0   240276   9.6875        Q  \n",
       "3  27.0      0      0   315154   8.6625        S  \n",
       "4  22.0      1      1  3101298  12.2875        S  "
      ]
     },
     "execution_count": 23,
     "metadata": {},
     "output_type": "execute_result"
    }
   ],
   "source": [
    "titanic_test.head()"
   ]
  },
  {
   "cell_type": "code",
   "execution_count": 24,
   "metadata": {
    "execution": {
     "iopub.execute_input": "2020-08-19T12:59:46.201983Z",
     "iopub.status.busy": "2020-08-19T12:59:46.200481Z",
     "iopub.status.idle": "2020-08-19T12:59:46.205939Z",
     "shell.execute_reply": "2020-08-19T12:59:46.205193Z"
    },
    "papermill": {
     "duration": 0.054326,
     "end_time": "2020-08-19T12:59:46.206095",
     "exception": false,
     "start_time": "2020-08-19T12:59:46.151769",
     "status": "completed"
    },
    "tags": []
   },
   "outputs": [
    {
     "data": {
      "text/html": [
       "<div>\n",
       "<style scoped>\n",
       "    .dataframe tbody tr th:only-of-type {\n",
       "        vertical-align: middle;\n",
       "    }\n",
       "\n",
       "    .dataframe tbody tr th {\n",
       "        vertical-align: top;\n",
       "    }\n",
       "\n",
       "    .dataframe thead th {\n",
       "        text-align: right;\n",
       "    }\n",
       "</style>\n",
       "<table border=\"1\" class=\"dataframe\">\n",
       "  <thead>\n",
       "    <tr style=\"text-align: right;\">\n",
       "      <th></th>\n",
       "      <th>total</th>\n",
       "      <th>percent</th>\n",
       "    </tr>\n",
       "  </thead>\n",
       "  <tbody>\n",
       "    <tr>\n",
       "      <th>PassengerId</th>\n",
       "      <td>0</td>\n",
       "      <td>0.0</td>\n",
       "    </tr>\n",
       "    <tr>\n",
       "      <th>Survived</th>\n",
       "      <td>0</td>\n",
       "      <td>0.0</td>\n",
       "    </tr>\n",
       "    <tr>\n",
       "      <th>Pclass</th>\n",
       "      <td>0</td>\n",
       "      <td>0.0</td>\n",
       "    </tr>\n",
       "    <tr>\n",
       "      <th>Name</th>\n",
       "      <td>0</td>\n",
       "      <td>0.0</td>\n",
       "    </tr>\n",
       "    <tr>\n",
       "      <th>Sex</th>\n",
       "      <td>0</td>\n",
       "      <td>0.0</td>\n",
       "    </tr>\n",
       "    <tr>\n",
       "      <th>Age</th>\n",
       "      <td>0</td>\n",
       "      <td>0.0</td>\n",
       "    </tr>\n",
       "    <tr>\n",
       "      <th>SibSp</th>\n",
       "      <td>0</td>\n",
       "      <td>0.0</td>\n",
       "    </tr>\n",
       "    <tr>\n",
       "      <th>Parch</th>\n",
       "      <td>0</td>\n",
       "      <td>0.0</td>\n",
       "    </tr>\n",
       "    <tr>\n",
       "      <th>Ticket</th>\n",
       "      <td>0</td>\n",
       "      <td>0.0</td>\n",
       "    </tr>\n",
       "    <tr>\n",
       "      <th>Fare</th>\n",
       "      <td>0</td>\n",
       "      <td>0.0</td>\n",
       "    </tr>\n",
       "    <tr>\n",
       "      <th>Embarked</th>\n",
       "      <td>0</td>\n",
       "      <td>0.0</td>\n",
       "    </tr>\n",
       "  </tbody>\n",
       "</table>\n",
       "</div>"
      ],
      "text/plain": [
       "             total  percent\n",
       "PassengerId      0      0.0\n",
       "Survived         0      0.0\n",
       "Pclass           0      0.0\n",
       "Name             0      0.0\n",
       "Sex              0      0.0\n",
       "Age              0      0.0\n",
       "SibSp            0      0.0\n",
       "Parch            0      0.0\n",
       "Ticket           0      0.0\n",
       "Fare             0      0.0\n",
       "Embarked         0      0.0"
      ]
     },
     "execution_count": 24,
     "metadata": {},
     "output_type": "execute_result"
    }
   ],
   "source": [
    "missing_data(titanic)"
   ]
  },
  {
   "cell_type": "markdown",
   "metadata": {
    "papermill": {
     "duration": 0.030467,
     "end_time": "2020-08-19T12:59:46.658719",
     "exception": false,
     "start_time": "2020-08-19T12:59:46.628252",
     "status": "completed"
    },
    "tags": []
   },
   "source": [
    "Here, 549 Travellers died in tragedy and 342 Travellers save their lives. About 38% of people alive in tragedy.\n",
    "\n",
    "### 2. Gender Analysis\n",
    "\n",
    "Lets Check how many male and female survived on titanic."
   ]
  },
  {
   "cell_type": "code",
   "execution_count": 27,
   "metadata": {
    "execution": {
     "iopub.execute_input": "2020-08-19T12:59:46.735174Z",
     "iopub.status.busy": "2020-08-19T12:59:46.734358Z",
     "iopub.status.idle": "2020-08-19T12:59:46.738168Z",
     "shell.execute_reply": "2020-08-19T12:59:46.737390Z"
    },
    "papermill": {
     "duration": 0.04888,
     "end_time": "2020-08-19T12:59:46.738317",
     "exception": false,
     "start_time": "2020-08-19T12:59:46.689437",
     "status": "completed"
    },
    "tags": []
   },
   "outputs": [],
   "source": [
    "age_analysis=titanic[titanic['Survived']==1]['Sex'].value_counts().reset_index().rename(columns={'index':'Sex','Sex':'count'})"
   ]
  },
  {
   "cell_type": "markdown",
   "metadata": {
    "papermill": {
     "duration": 0.030594,
     "end_time": "2020-08-19T12:59:46.929572",
     "exception": false,
     "start_time": "2020-08-19T12:59:46.898978",
     "status": "completed"
    },
    "tags": []
   },
   "source": [
    "Out of 342 survived travellers there are 233 female and 109 male.We can see that survival chance of female is more than  male.but for surety check total number of male and female. "
   ]
  },
  {
   "cell_type": "code",
   "execution_count": 29,
   "metadata": {
    "execution": {
     "iopub.execute_input": "2020-08-19T12:59:46.999578Z",
     "iopub.status.busy": "2020-08-19T12:59:46.998738Z",
     "iopub.status.idle": "2020-08-19T12:59:47.002764Z",
     "shell.execute_reply": "2020-08-19T12:59:47.001973Z"
    },
    "papermill": {
     "duration": 0.042221,
     "end_time": "2020-08-19T12:59:47.002900",
     "exception": false,
     "start_time": "2020-08-19T12:59:46.960679",
     "status": "completed"
    },
    "tags": []
   },
   "outputs": [],
   "source": [
    "def draw(graph):\n",
    "    for p in graph.patches:\n",
    "        height = p.get_height()\n",
    "        graph.text(p.get_x()+p.get_width()/2., height + 5,height ,ha= \"center\")"
   ]
  },
  {
   "cell_type": "code",
   "execution_count": 32,
   "metadata": {
    "execution": {
     "iopub.execute_input": "2020-08-19T12:59:47.892981Z",
     "iopub.status.busy": "2020-08-19T12:59:47.889852Z",
     "iopub.status.idle": "2020-08-19T12:59:49.497149Z",
     "shell.execute_reply": "2020-08-19T12:59:49.497691Z"
    },
    "papermill": {
     "duration": 1.653969,
     "end_time": "2020-08-19T12:59:49.497860",
     "exception": false,
     "start_time": "2020-08-19T12:59:47.843891",
     "status": "completed"
    },
    "tags": []
   },
   "outputs": [
    {
     "data": {
      "text/plain": [
       "<seaborn.axisgrid.FacetGrid at 0x1f4e4cfa710>"
      ]
     },
     "execution_count": 32,
     "metadata": {},
     "output_type": "execute_result"
    },
    {
     "data": {
      "image/png": "[encoded data removed]",
      "text/plain": [
       "<Figure size 701.125x900 with 3 Axes>"
      ]
     },
     "metadata": {},
     "output_type": "display_data"
    }
   ],
   "source": [
    "FGrid = sns.FacetGrid(titanic, row='Pclass', aspect=2)\n",
    "FGrid.map(sns.pointplot, 'Embarked', 'Survived', 'Sex', palette=None,  order=None, hue_order=None)\n",
    "FGrid.add_legend()"
   ]
  },
  {
   "cell_type": "markdown",
   "metadata": {
    "papermill": {
     "duration": 0.032229,
     "end_time": "2020-08-19T12:59:49.562953",
     "exception": false,
     "start_time": "2020-08-19T12:59:49.530724",
     "status": "completed"
    },
    "tags": []
   },
   "source": [
    "On port S and C has more survival chances. Also we can see women have a high survival probability.\n",
    "\n",
    "Based on this senario Embarked looks to be correlated with survival, depending on the Pclass.\n",
    "More chances of surviaval if travellers are In Pclass 1.\n",
    "\n",
    "From which location passenger start journey does it matter or its more important that passenger is on Titanic, no matter from where you start journey. \n",
    "\n",
    "as we know that **At 2:20 a.m. on April 15, 1912, the British ocean liner Titanic sinks into the North Atlantic Ocean.**\n",
    "Its night time, high cold weather **(The temperature of the water was -2.2 degrees Celsius when Titanic was sinking)**, and Job-Location/Rest-room(Passenger class) allocated to everyone on Titanic.\n",
    "\n",
    "We can use Embarked as feature here for getting high accuracy but logically its doesn't matter. so we drop it out.\n",
    "\n",
    "As a part of data science you have to think 360 degree angle, some features are important but logically its not, so thats why you must have domain knowledge for feature selection."
   ]
  },
  {
   "cell_type": "code",
   "execution_count": 33,
   "metadata": {
    "execution": {
     "iopub.execute_input": "2020-08-19T12:59:49.637734Z",
     "iopub.status.busy": "2020-08-19T12:59:49.636901Z",
     "iopub.status.idle": "2020-08-19T12:59:49.640768Z",
     "shell.execute_reply": "2020-08-19T12:59:49.639898Z"
    },
    "papermill": {
     "duration": 0.045416,
     "end_time": "2020-08-19T12:59:49.640908",
     "exception": false,
     "start_time": "2020-08-19T12:59:49.595492",
     "status": "completed"
    },
    "tags": []
   },
   "outputs": [],
   "source": [
    "titanic.drop(['Embarked'], axis=1, inplace = True)\n",
    "titanic_test.drop(['Embarked'],axis=1,inplace=True)"
   ]
  },
  {
   "cell_type": "markdown",
   "metadata": {
    "papermill": {
     "duration": 0.032373,
     "end_time": "2020-08-19T12:59:49.705972",
     "exception": false,
     "start_time": "2020-08-19T12:59:49.673599",
     "status": "completed"
    },
    "tags": []
   },
   "source": [
    "### 4. Age Analysis"
   ]
  },
  {
   "cell_type": "code",
   "execution_count": 34,
   "metadata": {
    "execution": {
     "iopub.execute_input": "2020-08-19T12:59:49.786266Z",
     "iopub.status.busy": "2020-08-19T12:59:49.783304Z",
     "iopub.status.idle": "2020-08-19T12:59:49.796106Z",
     "shell.execute_reply": "2020-08-19T12:59:49.795427Z"
    },
    "papermill": {
     "duration": 0.057583,
     "end_time": "2020-08-19T12:59:49.796241",
     "exception": false,
     "start_time": "2020-08-19T12:59:49.738658",
     "status": "completed"
    },
    "tags": []
   },
   "outputs": [],
   "source": [
    "titanic=titanic.dropna()\n",
    "titanic['age_category']=np.where((titanic['Age']<19),\"below 19\",\n",
    "                                 np.where((titanic['Age']>18)&(titanic['Age']<=30),\"19-30\",\n",
    "                                    np.where((titanic['Age']>30)&(titanic['Age']<=50),\"31-50\",\n",
    "                                                np.where(titanic['Age']>50,\"Above 50\",\"NULL\"))))\n",
    "age=titanic['age_category'].value_counts().to_frame().reset_index().rename(columns={'index':'age_category','age_category':'Count'})"
   ]
  },
  {
   "cell_type": "code",
   "execution_count": 35,
   "metadata": {
    "execution": {
     "iopub.execute_input": "2020-08-19T12:59:49.873039Z",
     "iopub.status.busy": "2020-08-19T12:59:49.872125Z",
     "iopub.status.idle": "2020-08-19T12:59:49.875736Z",
     "shell.execute_reply": "2020-08-19T12:59:49.874983Z"
    },
    "papermill": {
     "duration": 0.047005,
     "end_time": "2020-08-19T12:59:49.875863",
     "exception": false,
     "start_time": "2020-08-19T12:59:49.828858",
     "status": "completed"
    },
    "tags": []
   },
   "outputs": [],
   "source": [
    "titanic_age=titanic['age_category'].value_counts().to_frame().reset_index().rename(columns={'index':'age_category','age_category':'count'})"
   ]
  },
  {
   "cell_type": "markdown",
   "metadata": {
    "papermill": {
     "duration": 0.033011,
     "end_time": "2020-08-19T12:59:50.051926",
     "exception": false,
     "start_time": "2020-08-19T12:59:50.018915",
     "status": "completed"
    },
    "tags": []
   },
   "source": [
    "**Lets clear our vision by another graph.**"
   ]
  },
  {
   "cell_type": "code",
   "execution_count": 37,
   "metadata": {
    "execution": {
     "iopub.execute_input": "2020-08-19T12:59:50.136338Z",
     "iopub.status.busy": "2020-08-19T12:59:50.135348Z",
     "iopub.status.idle": "2020-08-19T12:59:50.147078Z",
     "shell.execute_reply": "2020-08-19T12:59:50.146391Z"
    },
    "papermill": {
     "duration": 0.061619,
     "end_time": "2020-08-19T12:59:50.147230",
     "exception": false,
     "start_time": "2020-08-19T12:59:50.085611",
     "status": "completed"
    },
    "tags": []
   },
   "outputs": [],
   "source": [
    "titanic['survived_or_not']=np.where(titanic['Survived']==1,\"Survived\",np.where(titanic['Survived']==0,\"Died\",\"null\")) # .head(2)'\n",
    "\n",
    "sun_df=titanic[['Sex','survived_or_not','age_category','Fare']].groupby(['Sex','survived_or_not','age_category']).agg('sum').reset_index()"
   ]
  },
  {
   "cell_type": "markdown",
   "metadata": {
    "papermill": {
     "duration": 0.058821,
     "end_time": "2020-08-19T12:59:51.374980",
     "exception": false,
     "start_time": "2020-08-19T12:59:51.316159",
     "status": "completed"
    },
    "tags": []
   },
   "source": [
    "#### How are the Age spread for travellers?"
   ]
  },
  {
   "cell_type": "code",
   "execution_count": 39,
   "metadata": {
    "execution": {
     "iopub.execute_input": "2020-08-19T12:59:51.451260Z",
     "iopub.status.busy": "2020-08-19T12:59:51.450123Z",
     "iopub.status.idle": "2020-08-19T12:59:51.455447Z",
     "shell.execute_reply": "2020-08-19T12:59:51.454677Z"
    },
    "papermill": {
     "duration": 0.047034,
     "end_time": "2020-08-19T12:59:51.455578",
     "exception": false,
     "start_time": "2020-08-19T12:59:51.408544",
     "status": "completed"
    },
    "tags": []
   },
   "outputs": [],
   "source": [
    "sur_age=titanic[titanic['Survived']==1]['Age']\n",
    "un_age=titanic[titanic['Survived']==0]['Age']"
   ]
  },
  {
   "cell_type": "code",
   "execution_count": 40,
   "metadata": {
    "execution": {
     "iopub.execute_input": "2020-08-19T12:59:51.529790Z",
     "iopub.status.busy": "2020-08-19T12:59:51.528874Z",
     "iopub.status.idle": "2020-08-19T12:59:51.547315Z",
     "shell.execute_reply": "2020-08-19T12:59:51.546615Z"
    },
    "papermill": {
     "duration": 0.058249,
     "end_time": "2020-08-19T12:59:51.547445",
     "exception": false,
     "start_time": "2020-08-19T12:59:51.489196",
     "status": "completed"
    },
    "tags": []
   },
   "outputs": [
    {
     "ename": "NameError",
     "evalue": "name 'go' is not defined",
     "output_type": "error",
     "traceback": [
      "\u001b[1;31m---------------------------------------------------------------------------\u001b[0m",
      "\u001b[1;31mNameError\u001b[0m                                 Traceback (most recent call last)",
      "Cell \u001b[1;32mIn[40], line 1\u001b[0m\n\u001b[1;32m----> 1\u001b[0m fig \u001b[38;5;241m=\u001b[39m go\u001b[38;5;241m.\u001b[39mFigure(go\u001b[38;5;241m.\u001b[39mBox(y\u001b[38;5;241m=\u001b[39msur_age,name\u001b[38;5;241m=\u001b[39m\u001b[38;5;124m\"\u001b[39m\u001b[38;5;124mAge\u001b[39m\u001b[38;5;124m\"\u001b[39m)) \n\u001b[0;32m      2\u001b[0m fig\u001b[38;5;241m.\u001b[39mupdate_layout(title\u001b[38;5;241m=\u001b[39m\u001b[38;5;124m\"\u001b[39m\u001b[38;5;124mDistribution of Age by Survived travellers\u001b[39m\u001b[38;5;124m\"\u001b[39m, autosize\u001b[38;5;241m=\u001b[39m\u001b[38;5;28;01mFalse\u001b[39;00m, width\u001b[38;5;241m=\u001b[39m\u001b[38;5;241m600\u001b[39m, height\u001b[38;5;241m=\u001b[39m\u001b[38;5;241m700\u001b[39m)\n\u001b[0;32m      3\u001b[0m fig\u001b[38;5;241m.\u001b[39mshow()\n",
      "\u001b[1;31mNameError\u001b[0m: name 'go' is not defined"
     ]
    }
   ],
   "source": [
    "fig = go.Figure(go.Box(y=sur_age,name=\"Age\")) \n",
    "fig.update_layout(title=\"Distribution of Age by Survived travellers\", autosize=False, width=600, height=700)\n",
    "fig.show()"
   ]
  },
  {
   "cell_type": "markdown",
   "metadata": {
    "papermill": {
     "duration": 0.033275,
     "end_time": "2020-08-19T12:59:51.614609",
     "exception": false,
     "start_time": "2020-08-19T12:59:51.581334",
     "status": "completed"
    },
    "tags": []
   },
   "source": [
    "We plot this graph to check outliers of age column.\n",
    "\n",
    "Here, we can see that average age of survived person near to 30.\n",
    "\n",
    "and maximum survived passenger's age range lies between 22 to 35 years.\n",
    "\n",
    "#### what is Outlier?\n",
    "Outlier is an observation that appears far away and diverges from an overall pattern in a sample.\n",
    "\n",
    "<img src=\"https://i.ibb.co/HNjCZ4s/images-mod1-spread11.gif\" alt=\"outlier\" width=\"500\" height=\"350\">\n",
    "<ul>\n",
    "\n",
    "In our plot there are blue points above upper fence,those are all ouliers.\n",
    "Means our age range is 0.42 to 56 and rare age is above 56.Those are 58,60,62,63 and 80.\n",
    "\n",
    "This plot show us value of min, max, median and quartile ranges. \n",
    "\n",
    "##### Lets do same way  check this for unsurvived passengers."
   ]
  },
  {
   "cell_type": "markdown",
   "metadata": {
    "papermill": {
     "duration": 0.033719,
     "end_time": "2020-08-19T12:59:51.771209",
     "exception": false,
     "start_time": "2020-08-19T12:59:51.737490",
     "status": "completed"
    },
    "tags": []
   },
   "source": [
    "### 4. Passanger Class(Pclass) analysis \n",
    "\n",
    "we will check whether Upper class or lower class affect survival rate."
   ]
  },
  {
   "cell_type": "code",
   "execution_count": 43,
   "metadata": {
    "execution": {
     "iopub.execute_input": "2020-08-19T12:59:51.869462Z",
     "iopub.status.busy": "2020-08-19T12:59:51.850085Z",
     "iopub.status.idle": "2020-08-19T12:59:52.202827Z",
     "shell.execute_reply": "2020-08-19T12:59:52.201443Z"
    },
    "papermill": {
     "duration": 0.397725,
     "end_time": "2020-08-19T12:59:52.203006",
     "exception": false,
     "start_time": "2020-08-19T12:59:51.805281",
     "status": "completed"
    },
    "tags": []
   },
   "outputs": [
    {
     "ename": "AttributeError",
     "evalue": "'numpy.int64' object has no attribute 'startswith'",
     "output_type": "error",
     "traceback": [
      "\u001b[1;31m---------------------------------------------------------------------------\u001b[0m",
      "\u001b[1;31mAttributeError\u001b[0m                            Traceback (most recent call last)",
      "Cell \u001b[1;32mIn[43], line 1\u001b[0m\n\u001b[1;32m----> 1\u001b[0m ax \u001b[38;5;241m=\u001b[39m sns\u001b[38;5;241m.\u001b[39mcountplot(y\u001b[38;5;241m=\u001b[39m\u001b[38;5;124m\"\u001b[39m\u001b[38;5;124mPclass\u001b[39m\u001b[38;5;124m\"\u001b[39m, hue\u001b[38;5;241m=\u001b[39m\u001b[38;5;124m\"\u001b[39m\u001b[38;5;124mSurvived\u001b[39m\u001b[38;5;124m\"\u001b[39m, data\u001b[38;5;241m=\u001b[39mtitanic, palette\u001b[38;5;241m=\u001b[39m\u001b[38;5;124m\"\u001b[39m\u001b[38;5;124mSet1\u001b[39m\u001b[38;5;124m\"\u001b[39m)\n\u001b[0;32m      2\u001b[0m \u001b[38;5;28;01mfor\u001b[39;00m p \u001b[38;5;129;01min\u001b[39;00m ax\u001b[38;5;241m.\u001b[39mpatches:\n\u001b[0;32m      3\u001b[0m         Total \u001b[38;5;241m=\u001b[39m \u001b[38;5;124m'\u001b[39m\u001b[38;5;132;01m{:,.0f}\u001b[39;00m\u001b[38;5;124m'\u001b[39m\u001b[38;5;241m.\u001b[39mformat(p\u001b[38;5;241m.\u001b[39mget_width())\n",
      "File \u001b[1;32m~\\anaconda3\\Lib\\site-packages\\seaborn\\categorical.py:2955\u001b[0m, in \u001b[0;36mcountplot\u001b[1;34m(data, x, y, hue, order, hue_order, orient, color, palette, saturation, width, dodge, ax, **kwargs)\u001b[0m\n\u001b[0;32m   2952\u001b[0m \u001b[38;5;28;01mif\u001b[39;00m ax \u001b[38;5;129;01mis\u001b[39;00m \u001b[38;5;28;01mNone\u001b[39;00m:\n\u001b[0;32m   2953\u001b[0m     ax \u001b[38;5;241m=\u001b[39m plt\u001b[38;5;241m.\u001b[39mgca()\n\u001b[1;32m-> 2955\u001b[0m plotter\u001b[38;5;241m.\u001b[39mplot(ax, kwargs)\n\u001b[0;32m   2956\u001b[0m \u001b[38;5;28;01mreturn\u001b[39;00m ax\n",
      "File \u001b[1;32m~\\anaconda3\\Lib\\site-packages\\seaborn\\categorical.py:1587\u001b[0m, in \u001b[0;36m_BarPlotter.plot\u001b[1;34m(self, ax, bar_kws)\u001b[0m\n\u001b[0;32m   1585\u001b[0m \u001b[38;5;250m\u001b[39m\u001b[38;5;124;03m\"\"\"Make the plot.\"\"\"\u001b[39;00m\n\u001b[0;32m   1586\u001b[0m \u001b[38;5;28mself\u001b[39m\u001b[38;5;241m.\u001b[39mdraw_bars(ax, bar_kws)\n\u001b[1;32m-> 1587\u001b[0m \u001b[38;5;28mself\u001b[39m\u001b[38;5;241m.\u001b[39mannotate_axes(ax)\n\u001b[0;32m   1588\u001b[0m \u001b[38;5;28;01mif\u001b[39;00m \u001b[38;5;28mself\u001b[39m\u001b[38;5;241m.\u001b[39morient \u001b[38;5;241m==\u001b[39m \u001b[38;5;124m\"\u001b[39m\u001b[38;5;124mh\u001b[39m\u001b[38;5;124m\"\u001b[39m:\n\u001b[0;32m   1589\u001b[0m     ax\u001b[38;5;241m.\u001b[39minvert_yaxis()\n",
      "File \u001b[1;32m~\\anaconda3\\Lib\\site-packages\\seaborn\\categorical.py:767\u001b[0m, in \u001b[0;36m_CategoricalPlotter.annotate_axes\u001b[1;34m(self, ax)\u001b[0m\n\u001b[0;32m    764\u001b[0m     ax\u001b[38;5;241m.\u001b[39mset_ylim(\u001b[38;5;241m-\u001b[39m\u001b[38;5;241m.5\u001b[39m, \u001b[38;5;28mlen\u001b[39m(\u001b[38;5;28mself\u001b[39m\u001b[38;5;241m.\u001b[39mplot_data) \u001b[38;5;241m-\u001b[39m \u001b[38;5;241m.5\u001b[39m, auto\u001b[38;5;241m=\u001b[39m\u001b[38;5;28;01mNone\u001b[39;00m)\n\u001b[0;32m    766\u001b[0m \u001b[38;5;28;01mif\u001b[39;00m \u001b[38;5;28mself\u001b[39m\u001b[38;5;241m.\u001b[39mhue_names \u001b[38;5;129;01mis\u001b[39;00m \u001b[38;5;129;01mnot\u001b[39;00m \u001b[38;5;28;01mNone\u001b[39;00m:\n\u001b[1;32m--> 767\u001b[0m     ax\u001b[38;5;241m.\u001b[39mlegend(loc\u001b[38;5;241m=\u001b[39m\u001b[38;5;124m\"\u001b[39m\u001b[38;5;124mbest\u001b[39m\u001b[38;5;124m\"\u001b[39m, title\u001b[38;5;241m=\u001b[39m\u001b[38;5;28mself\u001b[39m\u001b[38;5;241m.\u001b[39mhue_title)\n",
      "File \u001b[1;32m~\\anaconda3\\Lib\\site-packages\\matplotlib\\axes\\_axes.py:322\u001b[0m, in \u001b[0;36mAxes.legend\u001b[1;34m(self, *args, **kwargs)\u001b[0m\n\u001b[0;32m    204\u001b[0m \u001b[38;5;129m@_docstring\u001b[39m\u001b[38;5;241m.\u001b[39mdedent_interpd\n\u001b[0;32m    205\u001b[0m \u001b[38;5;28;01mdef\u001b[39;00m \u001b[38;5;21mlegend\u001b[39m(\u001b[38;5;28mself\u001b[39m, \u001b[38;5;241m*\u001b[39margs, \u001b[38;5;241m*\u001b[39m\u001b[38;5;241m*\u001b[39mkwargs):\n\u001b[0;32m    206\u001b[0m \u001b[38;5;250m    \u001b[39m\u001b[38;5;124;03m\"\"\"\u001b[39;00m\n\u001b[0;32m    207\u001b[0m \u001b[38;5;124;03m    Place a legend on the Axes.\u001b[39;00m\n\u001b[0;32m    208\u001b[0m \n\u001b[1;32m   (...)\u001b[0m\n\u001b[0;32m    320\u001b[0m \u001b[38;5;124;03m    .. plot:: gallery/text_labels_and_annotations/legend.py\u001b[39;00m\n\u001b[0;32m    321\u001b[0m \u001b[38;5;124;03m    \"\"\"\u001b[39;00m\n\u001b[1;32m--> 322\u001b[0m     handles, labels, kwargs \u001b[38;5;241m=\u001b[39m mlegend\u001b[38;5;241m.\u001b[39m_parse_legend_args([\u001b[38;5;28mself\u001b[39m], \u001b[38;5;241m*\u001b[39margs, \u001b[38;5;241m*\u001b[39m\u001b[38;5;241m*\u001b[39mkwargs)\n\u001b[0;32m    323\u001b[0m     \u001b[38;5;28mself\u001b[39m\u001b[38;5;241m.\u001b[39mlegend_ \u001b[38;5;241m=\u001b[39m mlegend\u001b[38;5;241m.\u001b[39mLegend(\u001b[38;5;28mself\u001b[39m, handles, labels, \u001b[38;5;241m*\u001b[39m\u001b[38;5;241m*\u001b[39mkwargs)\n\u001b[0;32m    324\u001b[0m     \u001b[38;5;28mself\u001b[39m\u001b[38;5;241m.\u001b[39mlegend_\u001b[38;5;241m.\u001b[39m_remove_method \u001b[38;5;241m=\u001b[39m \u001b[38;5;28mself\u001b[39m\u001b[38;5;241m.\u001b[39m_remove_legend\n",
      "File \u001b[1;32m~\\anaconda3\\Lib\\site-packages\\matplotlib\\legend.py:1361\u001b[0m, in \u001b[0;36m_parse_legend_args\u001b[1;34m(axs, handles, labels, *args, **kwargs)\u001b[0m\n\u001b[0;32m   1357\u001b[0m     handles \u001b[38;5;241m=\u001b[39m [handle \u001b[38;5;28;01mfor\u001b[39;00m handle, label\n\u001b[0;32m   1358\u001b[0m                \u001b[38;5;129;01min\u001b[39;00m \u001b[38;5;28mzip\u001b[39m(_get_legend_handles(axs, handlers), labels)]\n\u001b[0;32m   1360\u001b[0m \u001b[38;5;28;01melif\u001b[39;00m \u001b[38;5;28mlen\u001b[39m(args) \u001b[38;5;241m==\u001b[39m \u001b[38;5;241m0\u001b[39m:  \u001b[38;5;66;03m# 0 args: automatically detect labels and handles.\u001b[39;00m\n\u001b[1;32m-> 1361\u001b[0m     handles, labels \u001b[38;5;241m=\u001b[39m _get_legend_handles_labels(axs, handlers)\n\u001b[0;32m   1362\u001b[0m     \u001b[38;5;28;01mif\u001b[39;00m \u001b[38;5;129;01mnot\u001b[39;00m handles:\n\u001b[0;32m   1363\u001b[0m         log\u001b[38;5;241m.\u001b[39mwarning(\n\u001b[0;32m   1364\u001b[0m             \u001b[38;5;124m\"\u001b[39m\u001b[38;5;124mNo artists with labels found to put in legend.  Note that \u001b[39m\u001b[38;5;124m\"\u001b[39m\n\u001b[0;32m   1365\u001b[0m             \u001b[38;5;124m\"\u001b[39m\u001b[38;5;124martists whose label start with an underscore are ignored \u001b[39m\u001b[38;5;124m\"\u001b[39m\n\u001b[0;32m   1366\u001b[0m             \u001b[38;5;124m\"\u001b[39m\u001b[38;5;124mwhen legend() is called with no argument.\u001b[39m\u001b[38;5;124m\"\u001b[39m)\n",
      "File \u001b[1;32m~\\anaconda3\\Lib\\site-packages\\matplotlib\\legend.py:1291\u001b[0m, in \u001b[0;36m_get_legend_handles_labels\u001b[1;34m(axs, legend_handler_map)\u001b[0m\n\u001b[0;32m   1289\u001b[0m \u001b[38;5;28;01mfor\u001b[39;00m handle \u001b[38;5;129;01min\u001b[39;00m _get_legend_handles(axs, legend_handler_map):\n\u001b[0;32m   1290\u001b[0m     label \u001b[38;5;241m=\u001b[39m handle\u001b[38;5;241m.\u001b[39mget_label()\n\u001b[1;32m-> 1291\u001b[0m     \u001b[38;5;28;01mif\u001b[39;00m label \u001b[38;5;129;01mand\u001b[39;00m \u001b[38;5;129;01mnot\u001b[39;00m label\u001b[38;5;241m.\u001b[39mstartswith(\u001b[38;5;124m'\u001b[39m\u001b[38;5;124m_\u001b[39m\u001b[38;5;124m'\u001b[39m):\n\u001b[0;32m   1292\u001b[0m         handles\u001b[38;5;241m.\u001b[39mappend(handle)\n\u001b[0;32m   1293\u001b[0m         labels\u001b[38;5;241m.\u001b[39mappend(label)\n",
      "\u001b[1;31mAttributeError\u001b[0m: 'numpy.int64' object has no attribute 'startswith'"
     ]
    },
    {
     "data": {
      "image/png": "[encoded data removed]",
      "text/plain": [
       "<Figure size 640x480 with 1 Axes>"
      ]
     },
     "metadata": {},
     "output_type": "display_data"
    }
   ],
   "source": [
    "ax = sns.countplot(y=\"Pclass\", hue=\"Survived\", data=titanic, palette=\"Set1\")\n",
    "for p in ax.patches:\n",
    "        Total = '{:,.0f}'.format(p.get_width())\n",
    "        x = p.get_x() + p.get_width() + 0.02\n",
    "        y = p.get_y() + p.get_height()/2\n",
    "        ax.annotate(Total, (x, y))"
   ]
  },
  {
   "cell_type": "markdown",
   "metadata": {
    "papermill": {
     "duration": 0.034912,
     "end_time": "2020-08-19T12:59:52.274188",
     "exception": false,
     "start_time": "2020-08-19T12:59:52.239276",
     "status": "completed"
    },
    "tags": []
   },
   "source": [
    "Here we see that Pclass is contributing to a persons chance of survival, especially if this person is in class 1. We will create another pclass plot below.\n",
    "\n",
    "### 5. SibSp and Parch Analysis\n",
    "\n",
    "SibSp and Parch would make more sense, Parents not let child die, Bond of Blood relation always help each other first, rather than helping others they think about them self and them family member.\n",
    "\n",
    "Create new feature Family Size as a combination of SibSp and Parch"
   ]
  },
  {
   "cell_type": "code",
   "execution_count": 44,
   "metadata": {
    "execution": {
     "iopub.execute_input": "2020-08-19T12:59:52.353042Z",
     "iopub.status.busy": "2020-08-19T12:59:52.351925Z",
     "iopub.status.idle": "2020-08-19T12:59:52.355247Z",
     "shell.execute_reply": "2020-08-19T12:59:52.355826Z"
    },
    "papermill": {
     "duration": 0.04775,
     "end_time": "2020-08-19T12:59:52.356027",
     "exception": false,
     "start_time": "2020-08-19T12:59:52.308277",
     "status": "completed"
    },
    "tags": []
   },
   "outputs": [],
   "source": [
    "# combine test and train as single to apply some function, we will use it again in Data Preprocessing\n",
    "all_data=[titanic,titanic_test]\n",
    "\n",
    "for dataset in all_data:\n",
    "    dataset['Family'] = dataset['SibSp'] + dataset['Parch'] + 1"
   ]
  },
  {
   "cell_type": "code",
   "execution_count": 45,
   "metadata": {
    "execution": {
     "iopub.execute_input": "2020-08-19T12:59:52.455714Z",
     "iopub.status.busy": "2020-08-19T12:59:52.453109Z",
     "iopub.status.idle": "2020-08-19T12:59:52.699901Z",
     "shell.execute_reply": "2020-08-19T12:59:52.699215Z"
    },
    "papermill": {
     "duration": 0.309667,
     "end_time": "2020-08-19T12:59:52.700047",
     "exception": false,
     "start_time": "2020-08-19T12:59:52.390380",
     "status": "completed"
    },
    "tags": []
   },
   "outputs": [
    {
     "data": {
      "image/png": "[encoded data removed]",
      "text/plain": [
       "<Figure size 700x600 with 1 Axes>"
      ]
     },
     "metadata": {},
     "output_type": "display_data"
    }
   ],
   "source": [
    "sns.set(style=\"darkgrid\")\n",
    "plt.figure(figsize = (7, 6))\n",
    "x = sns.countplot(titanic['Family'])\n",
    "draw(x)"
   ]
  },
  {
   "cell_type": "code",
   "execution_count": 46,
   "metadata": {
    "execution": {
     "iopub.execute_input": "2020-08-19T12:59:52.776931Z",
     "iopub.status.busy": "2020-08-19T12:59:52.775451Z",
     "iopub.status.idle": "2020-08-19T12:59:52.780928Z",
     "shell.execute_reply": "2020-08-19T12:59:52.780241Z"
    },
    "papermill": {
     "duration": 0.046284,
     "end_time": "2020-08-19T12:59:52.781078",
     "exception": false,
     "start_time": "2020-08-19T12:59:52.734794",
     "status": "completed"
    },
    "tags": []
   },
   "outputs": [],
   "source": [
    "surfamily_size = titanic[titanic['Survived'] == 1]"
   ]
  },
  {
   "cell_type": "markdown",
   "metadata": {
    "papermill": {
     "duration": 0.034814,
     "end_time": "2020-08-19T12:59:52.957287",
     "exception": false,
     "start_time": "2020-08-19T12:59:52.922473",
     "status": "completed"
    },
    "tags": []
   },
   "source": [
    "we can see  that single person have a high survival probability.\n",
    "\n",
    "From plot we can say  smaller family higher survival rate.\n",
    "\n",
    "**same way we can check for unsurvied travellers family size.**"
   ]
  },
  {
   "cell_type": "code",
   "execution_count": 48,
   "metadata": {
    "execution": {
     "iopub.execute_input": "2020-08-19T12:59:53.035389Z",
     "iopub.status.busy": "2020-08-19T12:59:53.033921Z",
     "iopub.status.idle": "2020-08-19T12:59:53.039145Z",
     "shell.execute_reply": "2020-08-19T12:59:53.038324Z"
    },
    "papermill": {
     "duration": 0.04694,
     "end_time": "2020-08-19T12:59:53.039300",
     "exception": false,
     "start_time": "2020-08-19T12:59:52.992360",
     "status": "completed"
    },
    "tags": []
   },
   "outputs": [],
   "source": [
    "unfamily_size = titanic[titanic['Survived'] == 0]"
   ]
  },
  {
   "cell_type": "markdown",
   "metadata": {
    "papermill": {
     "duration": 0.035928,
     "end_time": "2020-08-19T12:59:53.202198",
     "exception": false,
     "start_time": "2020-08-19T12:59:53.166270",
     "status": "completed"
    },
    "tags": []
   },
   "source": [
    "**Now we will see whether Age is considerable with family size for higher probability of survival?**"
   ]
  },
  {
   "cell_type": "markdown",
   "metadata": {
    "papermill": {
     "duration": 0.035799,
     "end_time": "2020-08-19T12:59:54.465272",
     "exception": false,
     "start_time": "2020-08-19T12:59:54.429473",
     "status": "completed"
    },
    "tags": []
   },
   "source": [
    "As per above plot we can say that if you are traveling alone or family of 2 members and your age is around 30 than your survival chance is almost 50%. While you have family of 5 members and all are around 30 then your survival chance very high.\n",
    "\n",
    "Also we can see that survival chance is next to zero if your family members more than 7.\n",
    "\n",
    "So family & age features are very important."
   ]
  },
  {
   "cell_type": "code",
   "execution_count": 51,
   "metadata": {
    "execution": {
     "iopub.execute_input": "2020-08-19T12:59:54.552683Z",
     "iopub.status.busy": "2020-08-19T12:59:54.546073Z",
     "iopub.status.idle": "2020-08-19T12:59:54.556301Z",
     "shell.execute_reply": "2020-08-19T12:59:54.555493Z"
    },
    "papermill": {
     "duration": 0.054925,
     "end_time": "2020-08-19T12:59:54.556432",
     "exception": false,
     "start_time": "2020-08-19T12:59:54.501507",
     "status": "completed"
    },
    "tags": []
   },
   "outputs": [],
   "source": [
    "# create bin for age features. \n",
    "for dataset in all_data:\n",
    "    dataset['Age_bin'] = pd.cut(dataset['Age'], bins=[0,12,20,40,120], labels=['Children','Teenage','Adult','Elder'])"
   ]
  },
  {
   "cell_type": "code",
   "execution_count": 52,
   "metadata": {
    "execution": {
     "iopub.execute_input": "2020-08-19T12:59:54.662333Z",
     "iopub.status.busy": "2020-08-19T12:59:54.647803Z",
     "iopub.status.idle": "2020-08-19T12:59:54.887312Z",
     "shell.execute_reply": "2020-08-19T12:59:54.886653Z"
    },
    "papermill": {
     "duration": 0.294806,
     "end_time": "2020-08-19T12:59:54.887454",
     "exception": false,
     "start_time": "2020-08-19T12:59:54.592648",
     "status": "completed"
    },
    "tags": []
   },
   "outputs": [
    {
     "name": "stderr",
     "output_type": "stream",
     "text": [
      "C:\\Users\\mazen\\anaconda3\\Lib\\site-packages\\seaborn\\categorical.py:641: FutureWarning: The default of observed=False is deprecated and will be changed to True in a future version of pandas. Pass observed=False to retain current behavior or observed=True to adopt the future default and silence this warning.\n",
      "  grouped_vals = vals.groupby(grouper)\n",
      "C:\\Users\\mazen\\anaconda3\\Lib\\site-packages\\seaborn\\categorical.py:641: FutureWarning: The default of observed=False is deprecated and will be changed to True in a future version of pandas. Pass observed=False to retain current behavior or observed=True to adopt the future default and silence this warning.\n",
      "  grouped_vals = vals.groupby(grouper)\n"
     ]
    },
    {
     "ename": "AttributeError",
     "evalue": "'numpy.int64' object has no attribute 'startswith'",
     "output_type": "error",
     "traceback": [
      "\u001b[1;31m---------------------------------------------------------------------------\u001b[0m",
      "\u001b[1;31mAttributeError\u001b[0m                            Traceback (most recent call last)",
      "Cell \u001b[1;32mIn[52], line 2\u001b[0m\n\u001b[0;32m      1\u001b[0m plt\u001b[38;5;241m.\u001b[39mfigure(figsize \u001b[38;5;241m=\u001b[39m (\u001b[38;5;241m8\u001b[39m, \u001b[38;5;241m5\u001b[39m))\n\u001b[1;32m----> 2\u001b[0m \u001b[38;5;28mbin\u001b[39m \u001b[38;5;241m=\u001b[39m sns\u001b[38;5;241m.\u001b[39mcountplot(x\u001b[38;5;241m=\u001b[39m\u001b[38;5;124m'\u001b[39m\u001b[38;5;124mAge_bin\u001b[39m\u001b[38;5;124m'\u001b[39m, hue\u001b[38;5;241m=\u001b[39m\u001b[38;5;124m'\u001b[39m\u001b[38;5;124mSurvived\u001b[39m\u001b[38;5;124m'\u001b[39m, data\u001b[38;5;241m=\u001b[39mtitanic,palette\u001b[38;5;241m=\u001b[39m\u001b[38;5;124m\"\u001b[39m\u001b[38;5;124mSet1\u001b[39m\u001b[38;5;124m\"\u001b[39m)\n\u001b[0;32m      3\u001b[0m draw(\u001b[38;5;28mbin\u001b[39m)\n",
      "File \u001b[1;32m~\\anaconda3\\Lib\\site-packages\\seaborn\\categorical.py:2955\u001b[0m, in \u001b[0;36mcountplot\u001b[1;34m(data, x, y, hue, order, hue_order, orient, color, palette, saturation, width, dodge, ax, **kwargs)\u001b[0m\n\u001b[0;32m   2952\u001b[0m \u001b[38;5;28;01mif\u001b[39;00m ax \u001b[38;5;129;01mis\u001b[39;00m \u001b[38;5;28;01mNone\u001b[39;00m:\n\u001b[0;32m   2953\u001b[0m     ax \u001b[38;5;241m=\u001b[39m plt\u001b[38;5;241m.\u001b[39mgca()\n\u001b[1;32m-> 2955\u001b[0m plotter\u001b[38;5;241m.\u001b[39mplot(ax, kwargs)\n\u001b[0;32m   2956\u001b[0m \u001b[38;5;28;01mreturn\u001b[39;00m ax\n",
      "File \u001b[1;32m~\\anaconda3\\Lib\\site-packages\\seaborn\\categorical.py:1587\u001b[0m, in \u001b[0;36m_BarPlotter.plot\u001b[1;34m(self, ax, bar_kws)\u001b[0m\n\u001b[0;32m   1585\u001b[0m \u001b[38;5;250m\u001b[39m\u001b[38;5;124;03m\"\"\"Make the plot.\"\"\"\u001b[39;00m\n\u001b[0;32m   1586\u001b[0m \u001b[38;5;28mself\u001b[39m\u001b[38;5;241m.\u001b[39mdraw_bars(ax, bar_kws)\n\u001b[1;32m-> 1587\u001b[0m \u001b[38;5;28mself\u001b[39m\u001b[38;5;241m.\u001b[39mannotate_axes(ax)\n\u001b[0;32m   1588\u001b[0m \u001b[38;5;28;01mif\u001b[39;00m \u001b[38;5;28mself\u001b[39m\u001b[38;5;241m.\u001b[39morient \u001b[38;5;241m==\u001b[39m \u001b[38;5;124m\"\u001b[39m\u001b[38;5;124mh\u001b[39m\u001b[38;5;124m\"\u001b[39m:\n\u001b[0;32m   1589\u001b[0m     ax\u001b[38;5;241m.\u001b[39minvert_yaxis()\n",
      "File \u001b[1;32m~\\anaconda3\\Lib\\site-packages\\seaborn\\categorical.py:767\u001b[0m, in \u001b[0;36m_CategoricalPlotter.annotate_axes\u001b[1;34m(self, ax)\u001b[0m\n\u001b[0;32m    764\u001b[0m     ax\u001b[38;5;241m.\u001b[39mset_ylim(\u001b[38;5;241m-\u001b[39m\u001b[38;5;241m.5\u001b[39m, \u001b[38;5;28mlen\u001b[39m(\u001b[38;5;28mself\u001b[39m\u001b[38;5;241m.\u001b[39mplot_data) \u001b[38;5;241m-\u001b[39m \u001b[38;5;241m.5\u001b[39m, auto\u001b[38;5;241m=\u001b[39m\u001b[38;5;28;01mNone\u001b[39;00m)\n\u001b[0;32m    766\u001b[0m \u001b[38;5;28;01mif\u001b[39;00m \u001b[38;5;28mself\u001b[39m\u001b[38;5;241m.\u001b[39mhue_names \u001b[38;5;129;01mis\u001b[39;00m \u001b[38;5;129;01mnot\u001b[39;00m \u001b[38;5;28;01mNone\u001b[39;00m:\n\u001b[1;32m--> 767\u001b[0m     ax\u001b[38;5;241m.\u001b[39mlegend(loc\u001b[38;5;241m=\u001b[39m\u001b[38;5;124m\"\u001b[39m\u001b[38;5;124mbest\u001b[39m\u001b[38;5;124m\"\u001b[39m, title\u001b[38;5;241m=\u001b[39m\u001b[38;5;28mself\u001b[39m\u001b[38;5;241m.\u001b[39mhue_title)\n",
      "File \u001b[1;32m~\\anaconda3\\Lib\\site-packages\\matplotlib\\axes\\_axes.py:322\u001b[0m, in \u001b[0;36mAxes.legend\u001b[1;34m(self, *args, **kwargs)\u001b[0m\n\u001b[0;32m    204\u001b[0m \u001b[38;5;129m@_docstring\u001b[39m\u001b[38;5;241m.\u001b[39mdedent_interpd\n\u001b[0;32m    205\u001b[0m \u001b[38;5;28;01mdef\u001b[39;00m \u001b[38;5;21mlegend\u001b[39m(\u001b[38;5;28mself\u001b[39m, \u001b[38;5;241m*\u001b[39margs, \u001b[38;5;241m*\u001b[39m\u001b[38;5;241m*\u001b[39mkwargs):\n\u001b[0;32m    206\u001b[0m \u001b[38;5;250m    \u001b[39m\u001b[38;5;124;03m\"\"\"\u001b[39;00m\n\u001b[0;32m    207\u001b[0m \u001b[38;5;124;03m    Place a legend on the Axes.\u001b[39;00m\n\u001b[0;32m    208\u001b[0m \n\u001b[1;32m   (...)\u001b[0m\n\u001b[0;32m    320\u001b[0m \u001b[38;5;124;03m    .. plot:: gallery/text_labels_and_annotations/legend.py\u001b[39;00m\n\u001b[0;32m    321\u001b[0m \u001b[38;5;124;03m    \"\"\"\u001b[39;00m\n\u001b[1;32m--> 322\u001b[0m     handles, labels, kwargs \u001b[38;5;241m=\u001b[39m mlegend\u001b[38;5;241m.\u001b[39m_parse_legend_args([\u001b[38;5;28mself\u001b[39m], \u001b[38;5;241m*\u001b[39margs, \u001b[38;5;241m*\u001b[39m\u001b[38;5;241m*\u001b[39mkwargs)\n\u001b[0;32m    323\u001b[0m     \u001b[38;5;28mself\u001b[39m\u001b[38;5;241m.\u001b[39mlegend_ \u001b[38;5;241m=\u001b[39m mlegend\u001b[38;5;241m.\u001b[39mLegend(\u001b[38;5;28mself\u001b[39m, handles, labels, \u001b[38;5;241m*\u001b[39m\u001b[38;5;241m*\u001b[39mkwargs)\n\u001b[0;32m    324\u001b[0m     \u001b[38;5;28mself\u001b[39m\u001b[38;5;241m.\u001b[39mlegend_\u001b[38;5;241m.\u001b[39m_remove_method \u001b[38;5;241m=\u001b[39m \u001b[38;5;28mself\u001b[39m\u001b[38;5;241m.\u001b[39m_remove_legend\n",
      "File \u001b[1;32m~\\anaconda3\\Lib\\site-packages\\matplotlib\\legend.py:1361\u001b[0m, in \u001b[0;36m_parse_legend_args\u001b[1;34m(axs, handles, labels, *args, **kwargs)\u001b[0m\n\u001b[0;32m   1357\u001b[0m     handles \u001b[38;5;241m=\u001b[39m [handle \u001b[38;5;28;01mfor\u001b[39;00m handle, label\n\u001b[0;32m   1358\u001b[0m                \u001b[38;5;129;01min\u001b[39;00m \u001b[38;5;28mzip\u001b[39m(_get_legend_handles(axs, handlers), labels)]\n\u001b[0;32m   1360\u001b[0m \u001b[38;5;28;01melif\u001b[39;00m \u001b[38;5;28mlen\u001b[39m(args) \u001b[38;5;241m==\u001b[39m \u001b[38;5;241m0\u001b[39m:  \u001b[38;5;66;03m# 0 args: automatically detect labels and handles.\u001b[39;00m\n\u001b[1;32m-> 1361\u001b[0m     handles, labels \u001b[38;5;241m=\u001b[39m _get_legend_handles_labels(axs, handlers)\n\u001b[0;32m   1362\u001b[0m     \u001b[38;5;28;01mif\u001b[39;00m \u001b[38;5;129;01mnot\u001b[39;00m handles:\n\u001b[0;32m   1363\u001b[0m         log\u001b[38;5;241m.\u001b[39mwarning(\n\u001b[0;32m   1364\u001b[0m             \u001b[38;5;124m\"\u001b[39m\u001b[38;5;124mNo artists with labels found to put in legend.  Note that \u001b[39m\u001b[38;5;124m\"\u001b[39m\n\u001b[0;32m   1365\u001b[0m             \u001b[38;5;124m\"\u001b[39m\u001b[38;5;124martists whose label start with an underscore are ignored \u001b[39m\u001b[38;5;124m\"\u001b[39m\n\u001b[0;32m   1366\u001b[0m             \u001b[38;5;124m\"\u001b[39m\u001b[38;5;124mwhen legend() is called with no argument.\u001b[39m\u001b[38;5;124m\"\u001b[39m)\n",
      "File \u001b[1;32m~\\anaconda3\\Lib\\site-packages\\matplotlib\\legend.py:1291\u001b[0m, in \u001b[0;36m_get_legend_handles_labels\u001b[1;34m(axs, legend_handler_map)\u001b[0m\n\u001b[0;32m   1289\u001b[0m \u001b[38;5;28;01mfor\u001b[39;00m handle \u001b[38;5;129;01min\u001b[39;00m _get_legend_handles(axs, legend_handler_map):\n\u001b[0;32m   1290\u001b[0m     label \u001b[38;5;241m=\u001b[39m handle\u001b[38;5;241m.\u001b[39mget_label()\n\u001b[1;32m-> 1291\u001b[0m     \u001b[38;5;28;01mif\u001b[39;00m label \u001b[38;5;129;01mand\u001b[39;00m \u001b[38;5;129;01mnot\u001b[39;00m label\u001b[38;5;241m.\u001b[39mstartswith(\u001b[38;5;124m'\u001b[39m\u001b[38;5;124m_\u001b[39m\u001b[38;5;124m'\u001b[39m):\n\u001b[0;32m   1292\u001b[0m         handles\u001b[38;5;241m.\u001b[39mappend(handle)\n\u001b[0;32m   1293\u001b[0m         labels\u001b[38;5;241m.\u001b[39mappend(label)\n",
      "\u001b[1;31mAttributeError\u001b[0m: 'numpy.int64' object has no attribute 'startswith'"
     ]
    },
    {
     "data": {
      "image/png": "[encoded data removed]",
      "text/plain": [
       "<Figure size 800x500 with 1 Axes>"
      ]
     },
     "metadata": {},
     "output_type": "display_data"
    }
   ],
   "source": [
    "plt.figure(figsize = (8, 5))\n",
    "bin = sns.countplot(x='Age_bin', hue='Survived', data=titanic,palette=\"Set1\")\n",
    "draw(bin)"
   ]
  },
  {
   "cell_type": "markdown",
   "metadata": {
    "papermill": {
     "duration": 0.036767,
     "end_time": "2020-08-19T12:59:54.961158",
     "exception": false,
     "start_time": "2020-08-19T12:59:54.924391",
     "status": "completed"
    },
    "tags": []
   },
   "source": [
    "Here, Survived count is higher for Adult.\n",
    "for children and teenage is almost eual chance of survival.\n",
    "\n",
    "### 6. Fare Analysis\n",
    "\n",
    "we are going to create bins for different fare price level."
   ]
  },
  {
   "cell_type": "code",
   "execution_count": 53,
   "metadata": {
    "execution": {
     "iopub.execute_input": "2020-08-19T12:59:55.044074Z",
     "iopub.status.busy": "2020-08-19T12:59:55.043083Z",
     "iopub.status.idle": "2020-08-19T12:59:55.052627Z",
     "shell.execute_reply": "2020-08-19T12:59:55.051890Z"
    },
    "papermill": {
     "duration": 0.053634,
     "end_time": "2020-08-19T12:59:55.052769",
     "exception": false,
     "start_time": "2020-08-19T12:59:54.999135",
     "status": "completed"
    },
    "tags": []
   },
   "outputs": [],
   "source": [
    "for dataset in all_data:\n",
    "    dataset['Fare_bin'] = pd.cut(dataset['Fare'], bins=[0,10,50,100,550], labels=['Low_fare','medium_fare','Average_fare','high_fare'])"
   ]
  },
  {
   "cell_type": "markdown",
   "metadata": {
    "papermill": {
     "duration": 0.036426,
     "end_time": "2020-08-19T12:59:55.126064",
     "exception": false,
     "start_time": "2020-08-19T12:59:55.089638",
     "status": "completed"
    },
    "tags": []
   },
   "source": [
    "Some insight in Fare information\n",
    "\n",
    "* A higher family size doesn't necessarily indicate higher Fare.\n",
    "\n",
    "* Passengers in class 2 and 3 paid a fare of under 100 bucks.\n",
    "\n",
    "* Most passengers paid under 50 bucks of fare.\n",
    "\n",
    "It seems that passenger fare depends on their travel class in our model.lets prove with prove."
   ]
  },
  {
   "cell_type": "code",
   "execution_count": 54,
   "metadata": {
    "execution": {
     "iopub.execute_input": "2020-08-19T12:59:55.229009Z",
     "iopub.status.busy": "2020-08-19T12:59:55.223910Z",
     "iopub.status.idle": "2020-08-19T12:59:55.460263Z",
     "shell.execute_reply": "2020-08-19T12:59:55.459592Z"
    },
    "papermill": {
     "duration": 0.296825,
     "end_time": "2020-08-19T12:59:55.460393",
     "exception": false,
     "start_time": "2020-08-19T12:59:55.163568",
     "status": "completed"
    },
    "tags": []
   },
   "outputs": [
    {
     "data": {
      "text/plain": [
       "<Axes: xlabel='Pclass', ylabel='count'>"
      ]
     },
     "execution_count": 54,
     "metadata": {},
     "output_type": "execute_result"
    },
    {
     "data": {
      "image/png": "[encoded data removed]",
      "text/plain": [
       "<Figure size 800x500 with 1 Axes>"
      ]
     },
     "metadata": {},
     "output_type": "display_data"
    }
   ],
   "source": [
    "plt.figure(figsize = (8, 5))\n",
    "sns.countplot(x='Pclass', hue='Fare_bin', data=titanic)"
   ]
  },
  {
   "cell_type": "markdown",
   "metadata": {
    "papermill": {
     "duration": 0.036956,
     "end_time": "2020-08-19T12:59:55.534626",
     "exception": false,
     "start_time": "2020-08-19T12:59:55.497670",
     "status": "completed"
    },
    "tags": []
   },
   "source": [
    "We can say Low fare is only in 3rd Pclass.Medium fare travellers are in all class.High fare travellers are only in 1st class.\n",
    "\n",
    "Pclass and Fare correlated with other.So we can drop one of them.\n",
    "\n",
    "But if we think logically how much price I paid for ticket is not correlate to my survival chance.\n",
    "\n",
    "So,basically we should drop fare.For surety we will create correlation matrix first.\n",
    "\n",
    "## Correlation\n",
    "\n",
    "### What is correaltion?\n",
    "\n",
    " correlation is a measure of how strongly one variable depends on another.\n",
    " \n",
    " **1.Positive correlation:**\n",
    "\n",
    "A positive correlation is a relationship between two variables in which both variables move in the same direction.\n",
    "Therefore, when one variable increases as the other variable increases, or one variable decreases while the other decreases.see it with example of age vs salary.\n",
    "\n",
    "<img src=\"https://i.ibb.co/pKnm57p/age-vs-salary.png\" alt=\"positive correlation\" width=\"450\" height=\"300\" data-load=\"full\" style=\"\">\n",
    "\n",
    "**2.Negative correlation**\n",
    "\n",
    "A negaitive correlation is a relationship between two variables in which both variables move in the opposite direction.\n",
    "Therefore, when one variable increases as the other variable decreases, or one variable decreases while the other increases.\n",
    "\n",
    "<img src=\"https://i.ibb.co/Jv85tfs/scatter-plot-negative-correlation.png\" alt=\"negative correlation\" width=\"400\" height=\"300\" data-load=\"full\" style=\"\">\n",
    "\n",
    "**Note:** only the numeric features are compared as it is obvious that we cannot correlate between alphabets or strings. "
   ]
  },
  {
   "cell_type": "markdown",
   "metadata": {
    "papermill": {
     "duration": 0.038201,
     "end_time": "2020-08-19T12:59:56.297548",
     "exception": false,
     "start_time": "2020-08-19T12:59:56.259347",
     "status": "completed"
    },
    "tags": []
   },
   "source": [
    "## Feature Engineering\n",
    "\n",
    "Feature engineering is the art of converting raw data into useful features.To help us get a better performance, we can create new features based on the original features of our dataset.\n",
    "\n",
    "we will see first which are not numeric data and than after convert them into numeric data."
   ]
  },
  {
   "cell_type": "code",
   "execution_count": 57,
   "metadata": {
    "execution": {
     "iopub.execute_input": "2020-08-19T12:59:56.436963Z",
     "iopub.status.busy": "2020-08-19T12:59:56.435853Z",
     "iopub.status.idle": "2020-08-19T12:59:56.442840Z",
     "shell.execute_reply": "2020-08-19T12:59:56.442081Z"
    },
    "papermill": {
     "duration": 0.106549,
     "end_time": "2020-08-19T12:59:56.442978",
     "exception": false,
     "start_time": "2020-08-19T12:59:56.336429",
     "status": "completed"
    },
    "tags": []
   },
   "outputs": [
    {
     "name": "stdout",
     "output_type": "stream",
     "text": [
      "<class 'pandas.core.frame.DataFrame'>\n",
      "RangeIndex: 891 entries, 0 to 890\n",
      "Data columns (total 15 columns):\n",
      " #   Column           Non-Null Count  Dtype   \n",
      "---  ------           --------------  -----   \n",
      " 0   PassengerId      891 non-null    int64   \n",
      " 1   Survived         891 non-null    int64   \n",
      " 2   Pclass           891 non-null    int64   \n",
      " 3   Name             891 non-null    object  \n",
      " 4   Sex              891 non-null    object  \n",
      " 5   Age              891 non-null    float64 \n",
      " 6   SibSp            891 non-null    int64   \n",
      " 7   Parch            891 non-null    int64   \n",
      " 8   Ticket           891 non-null    object  \n",
      " 9   Fare             891 non-null    float64 \n",
      " 10  age_category     891 non-null    object  \n",
      " 11  survived_or_not  891 non-null    object  \n",
      " 12  Family           891 non-null    int64   \n",
      " 13  Age_bin          891 non-null    category\n",
      " 14  Fare_bin         876 non-null    category\n",
      "dtypes: category(2), float64(2), int64(6), object(5)\n",
      "memory usage: 92.8+ KB\n"
     ]
    }
   ],
   "source": [
    "titanic.info()"
   ]
  },
  {
   "cell_type": "markdown",
   "metadata": {
    "papermill": {
     "duration": 0.038126,
     "end_time": "2020-08-19T12:59:56.520364",
     "exception": false,
     "start_time": "2020-08-19T12:59:56.482238",
     "status": "completed"
    },
    "tags": []
   },
   "source": [
    "We already have Survived column so we drop the colom with name \"survived_or_not\" "
   ]
  },
  {
   "cell_type": "code",
   "execution_count": 58,
   "metadata": {
    "execution": {
     "iopub.execute_input": "2020-08-19T12:59:56.605651Z",
     "iopub.status.busy": "2020-08-19T12:59:56.604619Z",
     "iopub.status.idle": "2020-08-19T12:59:56.607975Z",
     "shell.execute_reply": "2020-08-19T12:59:56.607373Z"
    },
    "papermill": {
     "duration": 0.049411,
     "end_time": "2020-08-19T12:59:56.608129",
     "exception": false,
     "start_time": "2020-08-19T12:59:56.558718",
     "status": "completed"
    },
    "tags": []
   },
   "outputs": [],
   "source": [
    "drop_col= [\"survived_or_not\",\"age_category\"]\n",
    "titanic.drop(drop_col,axis=1,inplace=True)"
   ]
  },
  {
   "cell_type": "code",
   "execution_count": 59,
   "metadata": {
    "execution": {
     "iopub.execute_input": "2020-08-19T12:59:56.700240Z",
     "iopub.status.busy": "2020-08-19T12:59:56.699087Z",
     "iopub.status.idle": "2020-08-19T12:59:56.704198Z",
     "shell.execute_reply": "2020-08-19T12:59:56.703439Z"
    },
    "papermill": {
     "duration": 0.057438,
     "end_time": "2020-08-19T12:59:56.704338",
     "exception": false,
     "start_time": "2020-08-19T12:59:56.646900",
     "status": "completed"
    },
    "tags": []
   },
   "outputs": [
    {
     "data": {
      "text/plain": [
       "Sex\n",
       "0    577\n",
       "1    314\n",
       "Name: count, dtype: int64"
      ]
     },
     "execution_count": 59,
     "metadata": {},
     "output_type": "execute_result"
    }
   ],
   "source": [
    "# Convert ‘Sex’ feature into numeric.\n",
    "genders = {\"male\": 0, \"female\": 1}\n",
    "\n",
    "for dataset in all_data:\n",
    "    dataset['Sex'] = dataset['Sex'].map(genders)\n",
    "titanic['Sex'].value_counts()"
   ]
  },
  {
   "cell_type": "code",
   "execution_count": 60,
   "metadata": {
    "execution": {
     "iopub.execute_input": "2020-08-19T12:59:56.809084Z",
     "iopub.status.busy": "2020-08-19T12:59:56.794829Z",
     "iopub.status.idle": "2020-08-19T12:59:56.838407Z",
     "shell.execute_reply": "2020-08-19T12:59:56.837770Z"
    },
    "papermill": {
     "duration": 0.095303,
     "end_time": "2020-08-19T12:59:56.838544",
     "exception": false,
     "start_time": "2020-08-19T12:59:56.743241",
     "status": "completed"
    },
    "tags": []
   },
   "outputs": [
    {
     "data": {
      "text/plain": [
       "Age\n",
       "3    222\n",
       "2    139\n",
       "4    133\n",
       "5    116\n",
       "6    101\n",
       "1     97\n",
       "0     83\n",
       "Name: count, dtype: int64"
      ]
     },
     "execution_count": 60,
     "metadata": {},
     "output_type": "execute_result"
    }
   ],
   "source": [
    "for dataset in all_data:\n",
    "    dataset['Age'] = dataset['Age'].astype(int)\n",
    "    dataset.loc[ dataset['Age'] <= 15, 'Age'] = 0\n",
    "    dataset.loc[(dataset['Age'] > 15) & (dataset['Age'] <= 20), 'Age'] = 1\n",
    "    dataset.loc[(dataset['Age'] > 20) & (dataset['Age'] <= 26), 'Age'] = 2\n",
    "    dataset.loc[(dataset['Age'] > 26) & (dataset['Age'] <= 28), 'Age'] = 3\n",
    "    dataset.loc[(dataset['Age'] > 28) & (dataset['Age'] <= 35), 'Age'] = 4\n",
    "    dataset.loc[(dataset['Age'] > 35) & (dataset['Age'] <= 45), 'Age'] = 5\n",
    "    dataset.loc[ dataset['Age'] > 45, 'Age'] = 6\n",
    "titanic['Age'].value_counts()"
   ]
  },
  {
   "cell_type": "markdown",
   "metadata": {
    "papermill": {
     "duration": 0.038723,
     "end_time": "2020-08-19T12:59:56.916161",
     "exception": false,
     "start_time": "2020-08-19T12:59:56.877438",
     "status": "completed"
    },
    "tags": []
   },
   "source": [
    "As we created new fetures form existing one, so we remove that one.\n",
    "\n",
    "Dropping SibSp & Parch because we have family now. same way Age.\n",
    "We also going to remove some other features like passenger id in list, Ticket number and Name."
   ]
  },
  {
   "cell_type": "code",
   "execution_count": 61,
   "metadata": {
    "execution": {
     "iopub.execute_input": "2020-08-19T12:59:57.004739Z",
     "iopub.status.busy": "2020-08-19T12:59:57.003919Z",
     "iopub.status.idle": "2020-08-19T12:59:57.007263Z",
     "shell.execute_reply": "2020-08-19T12:59:57.006490Z"
    },
    "papermill": {
     "duration": 0.051967,
     "end_time": "2020-08-19T12:59:57.007397",
     "exception": false,
     "start_time": "2020-08-19T12:59:56.955430",
     "status": "completed"
    },
    "tags": []
   },
   "outputs": [],
   "source": [
    "for dataset in all_data:\n",
    "    drop_column = ['Age_bin','Fare','Name','Ticket', 'PassengerId','SibSp','Parch','Fare_bin']\n",
    "    dataset.drop(drop_column, axis=1, inplace = True)"
   ]
  },
  {
   "cell_type": "markdown",
   "metadata": {
    "papermill": {
     "duration": 0.038957,
     "end_time": "2020-08-19T12:59:57.085642",
     "exception": false,
     "start_time": "2020-08-19T12:59:57.046685",
     "status": "completed"
    },
    "tags": []
   },
   "source": [
    "## Predictive Modeling\n",
    "\n",
    "After all the preprocessing, we are now ready for building and evaluating different Machine Learning models.\n",
    "\n",
    "We have seen some insights from the data analysis. But with that, we cannot accurately predict whether a passenger will survive or die. So now we will predict whether a Passenger will survive or not using some great Classification Algorithms."
   ]
  },
  {
   "cell_type": "code",
   "execution_count": 62,
   "metadata": {
    "execution": {
     "iopub.execute_input": "2020-08-19T12:59:57.177939Z",
     "iopub.status.busy": "2020-08-19T12:59:57.174582Z",
     "iopub.status.idle": "2020-08-19T12:59:57.184635Z",
     "shell.execute_reply": "2020-08-19T12:59:57.183823Z"
    },
    "papermill": {
     "duration": 0.060121,
     "end_time": "2020-08-19T12:59:57.184774",
     "exception": false,
     "start_time": "2020-08-19T12:59:57.124653",
     "status": "completed"
    },
    "tags": []
   },
   "outputs": [
    {
     "data": {
      "text/plain": [
       "((623, 4), (268, 4), (623,), (268,))"
      ]
     },
     "execution_count": 62,
     "metadata": {},
     "output_type": "execute_result"
    }
   ],
   "source": [
    "all_features = titanic.drop(\"Survived\",axis=1)\n",
    "Targete = titanic[\"Survived\"]\n",
    "X_train,X_test,y_train,y_test = train_test_split(all_features,Targete,test_size=0.3,random_state=0)\n",
    "X_train.shape,X_test.shape,y_train.shape,y_test.shape"
   ]
  },
  {
   "cell_type": "code",
   "execution_count": 63,
   "metadata": {
    "execution": {
     "iopub.execute_input": "2020-08-19T12:59:57.277915Z",
     "iopub.status.busy": "2020-08-19T12:59:57.276725Z",
     "iopub.status.idle": "2020-08-19T12:59:57.282096Z",
     "shell.execute_reply": "2020-08-19T12:59:57.281436Z"
    },
    "papermill": {
     "duration": 0.057705,
     "end_time": "2020-08-19T12:59:57.282228",
     "exception": false,
     "start_time": "2020-08-19T12:59:57.224523",
     "status": "completed"
    },
    "tags": []
   },
   "outputs": [
    {
     "data": {
      "text/html": [
       "<div>\n",
       "<style scoped>\n",
       "    .dataframe tbody tr th:only-of-type {\n",
       "        vertical-align: middle;\n",
       "    }\n",
       "\n",
       "    .dataframe tbody tr th {\n",
       "        vertical-align: top;\n",
       "    }\n",
       "\n",
       "    .dataframe thead th {\n",
       "        text-align: right;\n",
       "    }\n",
       "</style>\n",
       "<table border=\"1\" class=\"dataframe\">\n",
       "  <thead>\n",
       "    <tr style=\"text-align: right;\">\n",
       "      <th></th>\n",
       "      <th>Survived</th>\n",
       "      <th>Pclass</th>\n",
       "      <th>Sex</th>\n",
       "      <th>Age</th>\n",
       "      <th>Family</th>\n",
       "    </tr>\n",
       "  </thead>\n",
       "  <tbody>\n",
       "    <tr>\n",
       "      <th>0</th>\n",
       "      <td>0</td>\n",
       "      <td>3</td>\n",
       "      <td>0</td>\n",
       "      <td>2</td>\n",
       "      <td>2</td>\n",
       "    </tr>\n",
       "    <tr>\n",
       "      <th>1</th>\n",
       "      <td>1</td>\n",
       "      <td>1</td>\n",
       "      <td>1</td>\n",
       "      <td>5</td>\n",
       "      <td>2</td>\n",
       "    </tr>\n",
       "    <tr>\n",
       "      <th>2</th>\n",
       "      <td>1</td>\n",
       "      <td>3</td>\n",
       "      <td>1</td>\n",
       "      <td>2</td>\n",
       "      <td>1</td>\n",
       "    </tr>\n",
       "    <tr>\n",
       "      <th>3</th>\n",
       "      <td>1</td>\n",
       "      <td>1</td>\n",
       "      <td>1</td>\n",
       "      <td>4</td>\n",
       "      <td>2</td>\n",
       "    </tr>\n",
       "    <tr>\n",
       "      <th>4</th>\n",
       "      <td>0</td>\n",
       "      <td>3</td>\n",
       "      <td>0</td>\n",
       "      <td>4</td>\n",
       "      <td>1</td>\n",
       "    </tr>\n",
       "  </tbody>\n",
       "</table>\n",
       "</div>"
      ],
      "text/plain": [
       "   Survived  Pclass  Sex  Age  Family\n",
       "0         0       3    0    2       2\n",
       "1         1       1    1    5       2\n",
       "2         1       3    1    2       1\n",
       "3         1       1    1    4       2\n",
       "4         0       3    0    4       1"
      ]
     },
     "execution_count": 63,
     "metadata": {},
     "output_type": "execute_result"
    }
   ],
   "source": [
    "titanic.head()"
   ]
  },
  {
   "cell_type": "code",
   "execution_count": 77,
   "metadata": {
    "execution": {
     "iopub.execute_input": "2020-08-19T12:59:58.713663Z",
     "iopub.status.busy": "2020-08-19T12:59:58.708386Z",
     "iopub.status.idle": "2020-08-19T12:59:59.076605Z",
     "shell.execute_reply": "2020-08-19T12:59:59.077204Z"
    },
    "papermill": {
     "duration": 0.421295,
     "end_time": "2020-08-19T12:59:59.077367",
     "exception": false,
     "start_time": "2020-08-19T12:59:58.656072",
     "status": "completed"
    },
    "tags": []
   },
   "outputs": [
    {
     "name": "stdout",
     "output_type": "stream",
     "text": [
      "The accuracy of the Random Forest Classifier is 85.87\n",
      "The cross validated score for Random Forest Classifier is: 79.57\n"
     ]
    }
   ],
   "source": [
    "random_forest = RandomForestClassifier(n_estimators=100)\n",
    "random_forest.fit(X_train, y_train)\n",
    "\n",
    "Y_prediction = random_forest.predict(X_test)\n",
    "\n",
    "random_forest.score(X_train, y_train)\n",
    "acc_random_forest = round(random_forest.score(X_train, y_train) * 100, 2)\n",
    "\n",
    "kfold = KFold(n_splits=10) # k=10, split the data into 10 equal parts\n",
    "result_rm=cross_val_score(model,all_features,Targete,cv=10,scoring='accuracy')\n",
    "\n",
    "print('The accuracy of the Random Forest Classifier is',acc_random_forest)\n",
    "print('The cross validated score for Random Forest Classifier is:',round(result_rm.mean()*100,2))"
   ]
  },
  {
   "cell_type": "code",
   "execution_count": 81,
   "metadata": {
    "execution": {
     "iopub.execute_input": "2020-08-19T12:59:59.766966Z",
     "iopub.status.busy": "2020-08-19T12:59:59.766207Z",
     "iopub.status.idle": "2020-08-19T13:00:00.503132Z",
     "shell.execute_reply": "2020-08-19T13:00:00.502423Z"
    },
    "papermill": {
     "duration": 0.784791,
     "end_time": "2020-08-19T13:00:00.503271",
     "exception": false,
     "start_time": "2020-08-19T12:59:59.718480",
     "status": "completed"
    },
    "tags": []
   },
   "outputs": [
    {
     "name": "stdout",
     "output_type": "stream",
     "text": [
      "[[331  50]\n",
      " [ 78 164]]\n"
     ]
    }
   ],
   "source": [
    "predictions = cross_val_predict(random_forest, X_train, y_train, cv=3)\n",
    "c_mat = confusion_matrix(y_train, predictions)\n",
    "print(c_mat)"
   ]
  },
  {
   "cell_type": "code",
   "execution_count": 82,
   "metadata": {
    "execution": {
     "iopub.execute_input": "2020-08-19T13:00:00.602637Z",
     "iopub.status.busy": "2020-08-19T13:00:00.601444Z",
     "iopub.status.idle": "2020-08-19T13:00:00.817313Z",
     "shell.execute_reply": "2020-08-19T13:00:00.816572Z"
    },
    "papermill": {
     "duration": 0.273029,
     "end_time": "2020-08-19T13:00:00.817453",
     "exception": false,
     "start_time": "2020-08-19T13:00:00.544424",
     "status": "completed"
    },
    "tags": []
   },
   "outputs": [
    {
     "data": {
      "text/plain": [
       "<Axes: >"
      ]
     },
     "execution_count": 82,
     "metadata": {},
     "output_type": "execute_result"
    },
    {
     "data": {
      "image/png": "[encoded data removed]",
      "text/plain": [
       "<Figure size 640x480 with 2 Axes>"
      ]
     },
     "metadata": {},
     "output_type": "display_data"
    }
   ],
   "source": [
    "# we will see our confusion matrix in percentage.\n",
    "sns.heatmap(c_mat/np.sum(c_mat), annot=True, \n",
    "            fmt='.2%', cmap='Blues')"
   ]
  },
  {
   "cell_type": "markdown",
   "metadata": {
    "papermill": {
     "duration": 0.042141,
     "end_time": "2020-08-19T13:00:00.986445",
     "exception": false,
     "start_time": "2020-08-19T13:00:00.944304",
     "status": "completed"
    },
    "tags": []
   },
   "source": [
    "### Precision and Recall:\n",
    "\n",
    "precision refers to the percentage of results which are relevant, recall refers to the percentage of total relevant results correctly classified by our algorithm."
   ]
  },
  {
   "cell_type": "code",
   "execution_count": 83,
   "metadata": {
    "execution": {
     "iopub.execute_input": "2020-08-19T13:00:01.078729Z",
     "iopub.status.busy": "2020-08-19T13:00:01.077813Z",
     "iopub.status.idle": "2020-08-19T13:00:01.086603Z",
     "shell.execute_reply": "2020-08-19T13:00:01.087369Z"
    },
    "papermill": {
     "duration": 0.05865,
     "end_time": "2020-08-19T13:00:01.087554",
     "exception": false,
     "start_time": "2020-08-19T13:00:01.028904",
     "status": "completed"
    },
    "tags": []
   },
   "outputs": [
    {
     "name": "stdout",
     "output_type": "stream",
     "text": [
      "Precision: 0.7663551401869159\n",
      "Recall: 0.6776859504132231\n"
     ]
    }
   ],
   "source": [
    "from sklearn.metrics import precision_score, recall_score\n",
    "print(\"Precision:\", precision_score(y_train, predictions))\n",
    "print(\"Recall:\",recall_score(y_train, predictions))"
   ]
  },
  {
   "cell_type": "markdown",
   "metadata": {
    "papermill": {
     "duration": 0.042096,
     "end_time": "2020-08-19T13:00:01.171515",
     "exception": false,
     "start_time": "2020-08-19T13:00:01.129419",
     "status": "completed"
    },
    "tags": []
   },
   "source": [
    "### F-Score\n",
    "\n",
    "The F-score is computed with the harmonic mean of precision and recall. Note that it assigns much more weight to low values. As a result of that, the classifier will only get a high F-score, if both recall and precision are high."
   ]
  },
  {
   "cell_type": "code",
   "execution_count": 84,
   "metadata": {
    "execution": {
     "iopub.execute_input": "2020-08-19T13:00:01.263733Z",
     "iopub.status.busy": "2020-08-19T13:00:01.262871Z",
     "iopub.status.idle": "2020-08-19T13:00:01.270898Z",
     "shell.execute_reply": "2020-08-19T13:00:01.270289Z"
    },
    "papermill": {
     "duration": 0.057555,
     "end_time": "2020-08-19T13:00:01.271055",
     "exception": false,
     "start_time": "2020-08-19T13:00:01.213500",
     "status": "completed"
    },
    "tags": []
   },
   "outputs": [
    {
     "data": {
      "text/plain": [
       "0.719298245614035"
      ]
     },
     "execution_count": 84,
     "metadata": {},
     "output_type": "execute_result"
    }
   ],
   "source": [
    "from sklearn.metrics import f1_score\n",
    "f1_score(y_train, predictions)"
   ]
  }
 ],
 "metadata": {
  "kernelspec": {
   "display_name": "Python 3 (ipykernel)",
   "language": "python",
   "name": "python3"
  },
  "language_info": {
   "codemirror_mode": {
    "name": "ipython",
    "version": 3
   },
   "file_extension": ".py",
   "mimetype": "text/x-python",
   "name": "python",
   "nbconvert_exporter": "python",
   "pygments_lexer": "ipython3",
   "version": "3.11.7"
  },
  "papermill": {
   "duration": 26.391661,
   "end_time": "2020-08-19T13:00:01.601391",
   "environment_variables": {},
   "exception": null,
   "input_path": "__notebook__.ipynb",
   "output_path": "__notebook__.ipynb",
   "parameters": {},
   "start_time": "2020-08-19T12:59:35.209730",
   "version": "2.1.0"
  }
 },
 "nbformat": 4,
 "nbformat_minor": 4
}
